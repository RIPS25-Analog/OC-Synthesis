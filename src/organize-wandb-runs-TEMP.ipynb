{
 "cells": [
  {
   "cell_type": "code",
   "execution_count": null,
   "id": "923908df",
   "metadata": {},
   "outputs": [],
   "source": [
    "import os\n",
    "import glob\n",
    "import shutil\n",
    "import csv\n",
    "import yaml\n",
    "import re\n",
    "root_dir = '/home/wandb-runs/pace-v2/copied-dirs-for-real-only'"
   ]
  },
  {
   "cell_type": "markdown",
   "id": "2ef53dcb",
   "metadata": {},
   "source": [
    "# Cleaning old erroneous folder formatting "
   ]
  },
  {
   "cell_type": "code",
   "execution_count": null,
   "id": "13efabbc",
   "metadata": {},
   "outputs": [],
   "source": [
    "## the folder above contains multiple CSVs, each corresponding to a single WandB sweep set\n",
    "## parse the first column (which contains run names belonging to that sweep set) into a dictionary where the key is csv filename (aka sweep set name)\n",
    "sweep_dict = {}\n",
    "for csv_file in glob.glob(os.path.join(root_dir, '*.csv')):\n",
    "    with open(csv_file, 'r') as f:\n",
    "        reader = csv.reader(f)\n",
    "        next(reader)  # skip header\n",
    "        run_names = [row[0] for row in reader]\n",
    "        sweep_dict[os.path.basename(csv_file).split('.')[0]] = run_names"
   ]
  },
  {
   "cell_type": "code",
   "execution_count": null,
   "id": "b00dab4c",
   "metadata": {},
   "outputs": [],
   "source": [
    "sweep_dict"
   ]
  },
  {
   "cell_type": "code",
   "execution_count": null,
   "id": "f2b2b33b",
   "metadata": {},
   "outputs": [],
   "source": [
    "## for each sweep set, move all folders within root_dir that match the run names to a new folder named after the sweep set\n",
    "for sweep_set, run_names in sweep_dict.items():\n",
    "    sweep_dir = os.path.join(root_dir, sweep_set)\n",
    "    os.makedirs(sweep_dir, exist_ok=True)\n",
    "    for run_name in run_names:\n",
    "        run_dir = os.path.join(root_dir, run_name)\n",
    "        if os.path.exists(run_dir):\n",
    "            shutil.move(run_dir, sweep_dir)"
   ]
  },
  {
   "cell_type": "code",
   "execution_count": null,
   "id": "ed7fbbac",
   "metadata": {},
   "outputs": [],
   "source": [
    "## there are folders of the form valX in root_dir. Each one contains a file called simple_evaluation_results.yaml\n",
    "## in the yaml file, the 'model' entry will contain the sweep name (e.g: model: pace-v2/rare-sweep-8/weights/best.pt contains rare-sweep-8)\n",
    "## we need to move these val folders into the sweep set directories based on what's in the yaml file\n",
    "for val_folder in glob.glob(os.path.join(root_dir, 'val*')):\n",
    "    yaml_file = os.path.join(val_folder, 'simple_evaluation_results.yaml')\n",
    "    if os.path.exists(yaml_file):\n",
    "        with open(yaml_file, 'r') as f:\n",
    "            yaml_content = yaml.safe_load(f)\n",
    "            sweep_name = yaml_content.get('model', '').split('/')[-3]\n",
    "            print(f'Moving {val_folder} to {sweep_name}??')\n",
    "            ## find the sweep set correspodnng to the given sweep name\n",
    "            search_results = [s for s, names in sweep_dict.items() if sweep_name in names]\n",
    "            assert len(search_results) == 1, f'Expected 1 sweep set for {sweep_name}, found {len(search_results)}'\n",
    "            sweep_set = search_results[0]\n",
    "            target_dir = os.path.join(root_dir, sweep_set)\n",
    "            shutil.move(val_folder, target_dir)"
   ]
  },
  {
   "cell_type": "code",
   "execution_count": null,
   "id": "1d148ad1",
   "metadata": {},
   "outputs": [],
   "source": [
    "# count and print the number of sweep directories (of the form [word]-[word]-[number]) and the number of val directories (of the form val[number]) in each sweep set\n",
    "for sweep_set in sweep_dict.keys():\n",
    "    sweep_dir = os.path.join(root_dir, sweep_set)\n",
    "    if os.path.exists(sweep_dir):\n",
    "        num_sweep_dirs = len([d for d in os.listdir(sweep_dir) if re.match(r'^[\\w-]+-[\\w-]+-\\d+$', d)])\n",
    "        num_val_dirs = len([d for d in os.listdir(sweep_dir) if re.match(r'^val\\d+', d)])\n",
    "    else:\n",
    "        num_sweep_dirs = 0\n",
    "        num_val_dirs = 0\n",
    "    print(f'Sweep set: {sweep_set}, Number of sweep dirs: {num_sweep_dirs}, Number of val dirs: {num_val_dirs}')"
   ]
  },
  {
   "cell_type": "code",
   "execution_count": null,
   "id": "50dd8719",
   "metadata": {},
   "outputs": [],
   "source": [
    "covered_runs"
   ]
  }
 ],
 "metadata": {
  "kernelspec": {
   "display_name": "env",
   "language": "python",
   "name": "python3"
  },
  "language_info": {
   "codemirror_mode": {
    "name": "ipython",
    "version": 3
   },
   "file_extension": ".py",
   "mimetype": "text/x-python",
   "name": "python",
   "nbconvert_exporter": "python",
   "pygments_lexer": "ipython3",
   "version": "3.10.12"
  }
 },
 "nbformat": 4,
 "nbformat_minor": 5
}
