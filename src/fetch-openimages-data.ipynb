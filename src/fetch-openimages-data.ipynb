{
 "cells": [
  {
   "cell_type": "code",
   "execution_count": null,
   "id": "d79d0149",
   "metadata": {},
   "outputs": [],
   "source": [
    "from openimages.download import download_dataset\n",
    "import os\n",
    "import glob\n",
    "import shutil\n",
    "from PIL import Image, ImageDraw\n",
    "import numpy as np\n",
    "import yaml"
   ]
  },
  {
   "cell_type": "code",
   "execution_count": null,
   "id": "87a8167f",
   "metadata": {},
   "outputs": [],
   "source": [
    "classes = ['Screwdriver', 'Hammer', 'Wrench', 'Power plugs and sockets', 'Door handle']#, 'Nail (Construction)']"
   ]
  },
  {
   "cell_type": "code",
   "execution_count": null,
   "id": "a993a53f",
   "metadata": {},
   "outputs": [],
   "source": [
    "processed_dataset_name = 'openimages-basic-v0'\n",
    "download_dir = '../data/raw/openimages-download-v0'\n",
    "output_dir = f'../data/processed/{processed_dataset_name}'"
   ]
  },
  {
   "cell_type": "code",
   "execution_count": null,
   "id": "2aada750",
   "metadata": {},
   "outputs": [],
   "source": [
    "if not os.path.exists(download_dir):\n",
    "\tdata_dict = download_dataset(dest_dir=download_dir, class_labels=classes, annotation_format=\"darknet\", limit=50)\n",
    "\n",
    "\tprint('\\n\\n', data_dict)"
   ]
  },
  {
   "cell_type": "code",
   "execution_count": null,
   "id": "1a1d5847",
   "metadata": {},
   "outputs": [],
   "source": [
    "# Rename every folder of the format \"../../data/raw/openimages-download-v0/{class_name}/darknet\" to \"../../data/raw/openimages-download-v0/{class_name}/labels\"\n",
    "for class_name in classes:\n",
    "\tclass_path = os.path.join(download_dir, class_name, 'darknet')\n",
    "\tif os.path.exists(class_path):\n",
    "\t\tnew_class_path = os.path.join(download_dir, class_name, 'labels')\n",
    "\t\tif not os.path.exists(new_class_path):\n",
    "\t\t\tos.rename(class_path, new_class_path)\n",
    "\t\t\tprint(f\"Renamed {class_path} to {new_class_path}\")\n",
    "\t\telse:\n",
    "\t\t\tprint(f\"Path already exists: {new_class_path}\")\n",
    "\telse:\n",
    "\t\tprint(f\"Path does not exist: {class_path}\")"
   ]
  },
  {
   "cell_type": "code",
   "execution_count": null,
   "id": "975fd95b",
   "metadata": {},
   "outputs": [],
   "source": [
    "def show_bbox(image_path, label_path):\n",
    "    # Open the image and create ImageDraw object for drawing\n",
    "    image = Image.open(image_path)\n",
    "    draw = ImageDraw.Draw(image)\n",
    "\n",
    "    with open(label_path, 'r') as f:\n",
    "        for line in f.readlines():\n",
    "            # Split the line into five values\n",
    "            label, x, y, w, h = line.split(' ')\n",
    "\n",
    "            # Convert string into float\n",
    "            x = float(x)\n",
    "            y = float(y)\n",
    "            w = float(w)\n",
    "            h = float(h)\n",
    "\n",
    "            # Convert center position, width, height into\n",
    "            # top-left and bottom-right coordinates\n",
    "            W, H = image.size\n",
    "            x1 = (x - w/2) * W\n",
    "            y1 = (y - h/2) * H\n",
    "            x2 = (x + w/2) * W\n",
    "            y2 = (y + h/2) * H\n",
    "\n",
    "            # Draw the bounding box with red lines\n",
    "            draw.rectangle((x1, y1, x2, y2),\n",
    "                           outline=(255, 0, 0), # Red in RGB\n",
    "                           width=5)             # Line width\n",
    "    image.show()\n",
    "    \n",
    "# Show a sample image with bounding boxes\n",
    "# Get a valid filename\n",
    "images_dir = os.path.join(download_dir, 'screwdriver', 'images')\n",
    "image_path = os.path.join(images_dir, [f for f in os.listdir(images_dir) if f.endswith('.jpg')][1])\n",
    "label_path = image_path.replace('/images/', '/labels/').replace('.jpg', '.txt')\n",
    "show_bbox(image_path, label_path)"
   ]
  },
  {
   "cell_type": "code",
   "execution_count": null,
   "id": "4957fb36",
   "metadata": {},
   "outputs": [],
   "source": [
    "def get_filenames(folder):\n",
    "\tfilenames = set()\n",
    "\t\n",
    "\tfor path in glob.glob(os.path.join(folder, '*.jpg')):\n",
    "\t\t# Extract the filename\n",
    "\t\tif 'mask' in path:\n",
    "\t\t\tcontinue\n",
    "\t\tfilename = os.path.split(path)[-1]        \n",
    "\t\tfilenames.add(filename)\n",
    "\n",
    "\treturn filenames"
   ]
  },
  {
   "cell_type": "code",
   "execution_count": null,
   "id": "ed3bb4ff",
   "metadata": {},
   "outputs": [],
   "source": [
    "train_size=6\n",
    "val_size=10\n",
    "test_size=15\n",
    "\n",
    "# Check if directory already exists (to avoid overwriting files, which creates duplicate bounding box labels)\n",
    "if not os.path.exists(output_dir):\n",
    "\tnp.random.seed(0)\n",
    "\tfor class_name in classes:\n",
    "\t\tclass_name = class_name.lower()\n",
    "\t\t# Get the filenames for the current class\n",
    "\t\tclass_images = np.array(list(get_filenames(f'{download_dir}/{class_name}/images')))\n",
    "\t\tprint(f'Class: {class_name}, Number of images: {len(class_images)}')\n",
    "\t\tnp.random.shuffle(class_images)\n",
    "\t\t\n",
    "\t\tfor i, image_name in enumerate(class_images):\n",
    "\t\t\t# Label filename\n",
    "\t\t\tlabel_name = image_name.replace('.jpg', '.txt')\n",
    "\t\t\t\n",
    "\t\t\t# Split into train, val, or test\n",
    "\t\t\tif i < train_size:\n",
    "\t\t\t\tsplit = 'train'\n",
    "\t\t\telif i < train_size + val_size:\n",
    "\t\t\t\tsplit = 'val'\n",
    "\t\t\telif i < train_size + val_size + test_size:\n",
    "\t\t\t\tsplit = 'test'\n",
    "\t\t\t\n",
    "\t\t\t# Source paths\n",
    "\t\t\tsource_image_path = f'{download_dir}/{class_name}/images/{image_name}'\n",
    "\t\t\tsource_label_path = f'{download_dir}/{class_name}/darknet/{label_name}'\n",
    "\n",
    "\t\t\t# Destination paths\n",
    "\t\t\ttarget_image_folder = f'{output_dir}/{split}/images'\n",
    "\t\t\ttarget_label_folder = f'{output_dir}/{split}/labels'\n",
    "\t\t\t\n",
    "\t\t\tif not os.path.exists(target_image_folder):\n",
    "\t\t\t\tos.makedirs(target_image_folder)\n",
    "\t\t\tif not os.path.exists(target_label_folder):\n",
    "\t\t\t\tos.makedirs(target_label_folder)\n",
    "\n",
    "\t\t\t# Copy files\n",
    "\t\t\tshutil.copy(source_image_path, target_image_folder)\n",
    "\t\t\tshutil.copy(source_label_path, target_label_folder)"
   ]
  },
  {
   "cell_type": "code",
   "execution_count": null,
   "id": "a8d39b59",
   "metadata": {},
   "outputs": [],
   "source": [
    "data = {\n",
    "\t'train': f'{output_dir}/train/images',\n",
    "\t'val': f'{output_dir}/val/images',\n",
    "\t'test': f'{output_dir}/test/images',\n",
    "\t'nc': len(classes),\n",
    "\t'names': [c.lower() for c in classes]\n",
    "}\n",
    "\n",
    "# Create the YAML file\n",
    "with open(f'../data/{processed_dataset_name}.yaml', 'w') as outfile:\n",
    "\tyaml.dump(data, outfile, default_flow_style=False)"
   ]
  },
  {
   "cell_type": "code",
   "execution_count": null,
   "id": "51cf5c0a",
   "metadata": {},
   "outputs": [],
   "source": [
    "# # image_path = '/home/vikhyat/RIPS25-AnalogDevices-ObjectDetection/data/processed/openimages-basic-v0/train/images/00d9a083e1cba929.jpg'\n",
    "# image_path = \"/home/vikhyat/RIPS25-AnalogDevices-ObjectDetection/data/processed/cutNpaste-v0/train/images/synthetic_000000.jpg\"\n",
    "# label_path = image_path.replace('/images/', '/labels/').replace('.jpg', '.txt')\n",
    "# show_bbox(image_path, label_path)"
   ]
  }
 ],
 "metadata": {
  "kernelspec": {
   "display_name": "env",
   "language": "python",
   "name": "python3"
  },
  "language_info": {
   "codemirror_mode": {
    "name": "ipython",
    "version": 3
   },
   "file_extension": ".py",
   "mimetype": "text/x-python",
   "name": "python",
   "nbconvert_exporter": "python",
   "pygments_lexer": "ipython3",
   "version": "3.10.12"
  }
 },
 "nbformat": 4,
 "nbformat_minor": 5
}
