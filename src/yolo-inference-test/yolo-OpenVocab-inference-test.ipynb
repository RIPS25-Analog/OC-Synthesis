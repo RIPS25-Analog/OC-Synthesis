{
 "cells": [
  {
   "cell_type": "code",
   "execution_count": 1,
   "id": "f355d39b",
   "metadata": {},
   "outputs": [],
   "source": [
    "from ultralytics import YOLOWorld"
   ]
  },
  {
   "cell_type": "code",
   "execution_count": 2,
   "id": "f0a72a4f",
   "metadata": {},
   "outputs": [
    {
     "ename": "TypeError",
     "evalue": "YOLOWorld.__init__() got an unexpected keyword argument 'task'",
     "output_type": "error",
     "traceback": [
      "\u001b[0;31m---------------------------------------------------------------------------\u001b[0m",
      "\u001b[0;31mTypeError\u001b[0m                                 Traceback (most recent call last)",
      "Cell \u001b[0;32mIn[2], line 2\u001b[0m\n\u001b[1;32m      1\u001b[0m \u001b[38;5;66;03m# model = YOLOWorld(\"yolov8s-worldv2.pt\")\u001b[39;00m\n\u001b[0;32m----> 2\u001b[0m model \u001b[38;5;241m=\u001b[39m \u001b[43mYOLOWorld\u001b[49m\u001b[43m(\u001b[49m\u001b[38;5;124;43m\"\u001b[39;49m\u001b[38;5;124;43myolov8x-worldv2.pt\u001b[39;49m\u001b[38;5;124;43m\"\u001b[39;49m\u001b[43m,\u001b[49m\u001b[43m \u001b[49m\u001b[43mtask\u001b[49m\u001b[38;5;241;43m=\u001b[39;49m\u001b[38;5;124;43m'\u001b[39;49m\u001b[38;5;124;43mdetect\u001b[39;49m\u001b[38;5;124;43m'\u001b[39;49m\u001b[43m)\u001b[49m\n",
      "\u001b[0;31mTypeError\u001b[0m: YOLOWorld.__init__() got an unexpected keyword argument 'task'"
     ]
    }
   ],
   "source": [
    "# model = YOLOWorld(\"yolov8s-worldv2.pt\")\n",
    "model = YOLOWorld(\"yolov8x-worldv2.pt\")"
   ]
  },
  {
   "cell_type": "code",
   "execution_count": null,
   "id": "b6c53cef",
   "metadata": {},
   "outputs": [],
   "source": [
    "# model.set_classes([\"plant\", \"computer\", \"light\", \"cup\"])\n",
    "model.set_classes([\"toy car\", \"can\"])"
   ]
  },
  {
   "cell_type": "code",
   "execution_count": null,
   "id": "feffff81",
   "metadata": {},
   "outputs": [],
   "source": [
    "model.info()"
   ]
  },
  {
   "cell_type": "code",
   "execution_count": null,
   "id": "6eae427e",
   "metadata": {},
   "outputs": [],
   "source": [
    "preds = model.predict(\"/home/data/pace/toycar_can_v2/val/images\")"
   ]
  },
  {
   "cell_type": "code",
   "execution_count": null,
   "id": "90cc4c95",
   "metadata": {},
   "outputs": [],
   "source": [
    "preds[2300].show()"
   ]
  },
  {
   "cell_type": "code",
   "execution_count": null,
   "id": "4f84e808",
   "metadata": {},
   "outputs": [],
   "source": [
    "# results = model([\"img1.jpeg\", \"img2.webp\"])  # return a list of Results objects\n",
    "results = model([\"/home/data/pace/toycar_can_v2/train/images/0_0.png\"])"
   ]
  },
  {
   "cell_type": "code",
   "execution_count": null,
   "id": "7ac1a60a",
   "metadata": {},
   "outputs": [],
   "source": [
    "# Process results list\n",
    "for result in results:\n",
    "    boxes = result.boxes  # Boxes object for bounding box outputs\n",
    "    masks = result.masks  # Masks object for segmentation masks outputs\n",
    "    keypoints = result.keypoints  # Keypoints object for pose outputs\n",
    "    probs = result.probs  # Probs object for classification outputs\n",
    "    obb = result.obb  # Oriented boxes object for OBB outputs\n",
    "    result.show()  # display to screen"
   ]
  }
 ],
 "metadata": {
  "kernelspec": {
   "display_name": "env",
   "language": "python",
   "name": "python3"
  },
  "language_info": {
   "codemirror_mode": {
    "name": "ipython",
    "version": 3
   },
   "file_extension": ".py",
   "mimetype": "text/x-python",
   "name": "python",
   "nbconvert_exporter": "python",
   "pygments_lexer": "ipython3",
   "version": "3.10.12"
  }
 },
 "nbformat": 4,
 "nbformat_minor": 5
}
