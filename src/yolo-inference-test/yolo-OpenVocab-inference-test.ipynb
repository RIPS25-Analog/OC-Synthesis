{
 "cells": [
  {
   "cell_type": "code",
   "execution_count": 1,
   "id": "f355d39b",
   "metadata": {},
   "outputs": [],
   "source": [
    "from ultralytics import YOLOWorld"
   ]
  },
  {
   "cell_type": "code",
   "execution_count": 2,
   "id": "f0a72a4f",
   "metadata": {},
   "outputs": [],
   "source": [
    "# model = YOLOWorld(\"yolov8s-worldv2.pt\")\n",
    "model = YOLOWorld(\"yolov8x-worldv2.pt\")\n",
    "# model = YOLOWorld(\"/home/wandb-runs/pace-v2/ftp39cwy/light-sweep-3/weights/best.pt\")"
   ]
  },
  {
   "cell_type": "code",
   "execution_count": 3,
   "id": "c96b449c",
   "metadata": {},
   "outputs": [],
   "source": [
    "model.set_classes([\"toycar\", \"can\"])"
   ]
  },
  {
   "cell_type": "code",
   "execution_count": 3,
   "id": "a76cfb6b",
   "metadata": {},
   "outputs": [
    {
     "name": "stdout",
     "output_type": "stream",
     "text": [
      "Ultralytics 8.3.167 🚀 Python-3.10.12 torch-2.7.1+cu126 CUDA:0 (NVIDIA A10, 22599MiB)\n",
      "YOLOv8x-worldv2 summary (fused): 127 layers, 72,856,217 parameters, 0 gradients, 308.6 GFLOPs\n",
      "\u001b[34m\u001b[1mval: \u001b[0mFast image access ✅ (ping: 0.0±0.0 ms, read: 3590.8±1996.5 MB/s, size: 1184.0 KB)\n"
     ]
    },
    {
     "name": "stderr",
     "output_type": "stream",
     "text": [
      "\u001b[34m\u001b[1mval: \u001b[0mScanning /home/data/pace/toycar_can_v2/train/labels.cache... 6198 images, 676 backgrounds, 0 corrupt: 100%|██████████| 6700/6700 [00:00<?, ?it/s]\n",
      "                 Class     Images  Instances      Box(P          R      mAP50  mAP50-95): 100%|██████████| 419/419 [01:25<00:00,  4.90it/s]\n"
     ]
    },
    {
     "name": "stdout",
     "output_type": "stream",
     "text": [
      "                   all       6700       6024     0.0135      0.155    0.00887    0.00688\n",
      "                person       3598       3598     0.0271       0.31     0.0177     0.0138\n",
      "               bicycle       2426       2426          0          0          0          0\n",
      "Speed: 0.1ms preprocess, 10.4ms inference, 0.0ms loss, 0.7ms postprocess per image\n",
      "Results saved to \u001b[1m/home/vagarwal/RIPS25-AnalogDevices-ObjectDetection/runs/detect/val16\u001b[0m\n"
     ]
    }
   ],
   "source": [
    "train_results = model.val(data='/home/data/configs/pace_v2.yaml', split='train', batch=16, workers=16)"
   ]
  },
  {
   "cell_type": "code",
   "execution_count": 6,
   "id": "27803ab5",
   "metadata": {},
   "outputs": [
    {
     "name": "stdout",
     "output_type": "stream",
     "text": [
      "Ultralytics 8.3.167 🚀 Python-3.10.12 torch-2.7.1+cu126 CUDA:0 (NVIDIA A10, 22599MiB)\n",
      "YOLOv8x-worldv2 summary: 276 layers, 224,133,530 parameters, 0 gradients, 272.8 GFLOPs\n",
      "\u001b[34m\u001b[1mval: \u001b[0mFast image access ✅ (ping: 0.0±0.0 ms, read: 5453.7±907.3 MB/s, size: 1312.5 KB)\n"
     ]
    },
    {
     "name": "stderr",
     "output_type": "stream",
     "text": [
      "\u001b[34m\u001b[1mval: \u001b[0mScanning /home/data/pace/toycar_can_v2/train/labels... 6198 images, 676 backgrounds, 0 corrupt: 100%|██████████| 6700/6700 [00:33<00:00, 197.41it/s]\n"
     ]
    },
    {
     "name": "stdout",
     "output_type": "stream",
     "text": [
      "\u001b[34m\u001b[1mval: \u001b[0mNew cache created: /home/data/pace/toycar_can_v2/train/labels.cache\n"
     ]
    },
    {
     "name": "stderr",
     "output_type": "stream",
     "text": [
      "                 Class     Images  Instances      Box(P          R      mAP50  mAP50-95): 100%|██████████| 419/419 [01:22<00:00,  5.09it/s]\n"
     ]
    },
    {
     "name": "stdout",
     "output_type": "stream",
     "text": [
      "                   all       6700       6024      0.374      0.251      0.399      0.308\n",
      "                toycar       3598       3598      0.748      0.501      0.626      0.478\n",
      "                   can       2426       2426          0          0      0.171      0.138\n",
      "Speed: 0.1ms preprocess, 10.1ms inference, 0.0ms loss, 0.6ms postprocess per image\n",
      "Results saved to \u001b[1m/home/vagarwal/RIPS25-AnalogDevices-ObjectDetection/runs/detect/val15\u001b[0m\n"
     ]
    }
   ],
   "source": [
    "train_results_w_set_class = model.val(data='/home/data/configs/pace_v2.yaml', split='train', batch=16, workers=16)"
   ]
  },
  {
   "cell_type": "code",
   "execution_count": 4,
   "id": "71994b4a",
   "metadata": {},
   "outputs": [
    {
     "name": "stdout",
     "output_type": "stream",
     "text": [
      "Ultralytics 8.3.167 🚀 Python-3.10.12 torch-2.7.1+cu126 CUDA:0 (NVIDIA A10, 22599MiB)\n",
      "\u001b[34m\u001b[1mval: \u001b[0mFast image access ✅ (ping: 0.0±0.0 ms, read: 4772.3±192.5 MB/s, size: 1291.9 KB)\n"
     ]
    },
    {
     "name": "stderr",
     "output_type": "stream",
     "text": [
      "\u001b[34m\u001b[1mval: \u001b[0mScanning /home/data/pace/toycar_can_v2/test/labels.cache... 4341 images, 100 backgrounds, 0 corrupt: 100%|██████████| 4341/4341 [00:00<?, ?it/s]\n",
      "                 Class     Images  Instances      Box(P          R      mAP50  mAP50-95): 100%|██████████| 272/272 [00:56<00:00,  4.84it/s]\n"
     ]
    },
    {
     "name": "stdout",
     "output_type": "stream",
     "text": [
      "                   all       4341       5349     0.0224      0.183     0.0155     0.0116\n",
      "                person       2259       3367     0.0436      0.363     0.0304     0.0228\n",
      "               bicycle       1982       1982    0.00132    0.00252   0.000662    0.00049\n",
      "Speed: 0.1ms preprocess, 10.5ms inference, 0.0ms loss, 0.7ms postprocess per image\n",
      "Results saved to \u001b[1m/home/vagarwal/RIPS25-AnalogDevices-ObjectDetection/runs/detect/val17\u001b[0m\n"
     ]
    }
   ],
   "source": [
    "test_results = model.val(data='/home/data/configs/pace_v2.yaml', split='test', batch=16, workers=16)"
   ]
  },
  {
   "cell_type": "code",
   "execution_count": 4,
   "id": "545abc00",
   "metadata": {},
   "outputs": [
    {
     "name": "stdout",
     "output_type": "stream",
     "text": [
      "Ultralytics 8.3.167 🚀 Python-3.10.12 torch-2.7.1+cu126 CUDA:0 (NVIDIA A10, 22599MiB)\n",
      "YOLOv8x-worldv2 summary: 276 layers, 224,133,530 parameters, 151,277,313 gradients, 272.8 GFLOPs\n",
      "\u001b[34m\u001b[1mval: \u001b[0mFast image access ✅ (ping: 0.0±0.0 ms, read: 4781.8±615.8 MB/s, size: 1271.3 KB)\n"
     ]
    },
    {
     "name": "stderr",
     "output_type": "stream",
     "text": [
      "\u001b[34m\u001b[1mval: \u001b[0mScanning /home/data/pace/toycar_can_v2/test/labels.cache... 4341 images, 100 backgrounds, 0 corrupt: 100%|██████████| 4341/4341 [00:00<?, ?it/s]\n",
      "                 Class     Images  Instances      Box(P          R      mAP50  mAP50-95): 100%|██████████| 272/272 [01:17<00:00,  3.51it/s]\n"
     ]
    },
    {
     "name": "stdout",
     "output_type": "stream",
     "text": [
      "                   all       4341       5349      0.272      0.186      0.286      0.221\n",
      "                toycar       2259       3367      0.397      0.307      0.317      0.236\n",
      "                   can       1982       1982      0.148     0.0652      0.255      0.206\n",
      "Speed: 0.1ms preprocess, 11.9ms inference, 0.0ms loss, 1.5ms postprocess per image\n",
      "Results saved to \u001b[1m/home/vagarwal/RIPS25-AnalogDevices-ObjectDetection/runs/detect/val13\u001b[0m\n"
     ]
    }
   ],
   "source": [
    "test_results_w_setclass = model.val(data='/home/data/configs/pace_v2.yaml', split='test', batch=16, workers=16)"
   ]
  },
  {
   "cell_type": "code",
   "execution_count": 5,
   "id": "e549fc73",
   "metadata": {},
   "outputs": [
    {
     "name": "stdout",
     "output_type": "stream",
     "text": [
      "Ultralytics 8.3.167 🚀 Python-3.10.12 torch-2.7.1+cu126 CUDA:0 (NVIDIA A10, 22599MiB)\n",
      "\u001b[34m\u001b[1mval: \u001b[0mFast image access ✅ (ping: 0.0±0.0 ms, read: 5173.4±353.7 MB/s, size: 1082.6 KB)\n"
     ]
    },
    {
     "name": "stderr",
     "output_type": "stream",
     "text": [
      "\u001b[34m\u001b[1mval: \u001b[0mScanning /home/data/pace/toycar_can_v2/val/labels.cache... 6552 images, 8 backgrounds, 0 corrupt: 100%|██████████| 6552/6552 [00:00<?, ?it/s]\n",
      "                 Class     Images  Instances      Box(P          R      mAP50  mAP50-95): 100%|██████████| 410/410 [01:24<00:00,  4.83it/s]\n"
     ]
    },
    {
     "name": "stdout",
     "output_type": "stream",
     "text": [
      "                   all       6552       7071     0.0133      0.131    0.00843    0.00686\n",
      "                person       3522       4049     0.0263      0.263     0.0167     0.0136\n",
      "               bicycle       3022       3022   0.000325   0.000331   0.000166   0.000133\n",
      "Speed: 0.1ms preprocess, 10.5ms inference, 0.0ms loss, 0.7ms postprocess per image\n",
      "Results saved to \u001b[1m/home/vagarwal/RIPS25-AnalogDevices-ObjectDetection/runs/detect/val18\u001b[0m\n"
     ]
    }
   ],
   "source": [
    "val_results = model.val(data='/home/data/configs/pace_v2.yaml', split='val', batch=16, workers=16)"
   ]
  },
  {
   "cell_type": "code",
   "execution_count": 5,
   "id": "e0f905ba",
   "metadata": {},
   "outputs": [
    {
     "name": "stdout",
     "output_type": "stream",
     "text": [
      "Ultralytics 8.3.167 🚀 Python-3.10.12 torch-2.7.1+cu126 CUDA:0 (NVIDIA A10, 22599MiB)\n",
      "YOLOv8x-worldv2 summary: 276 layers, 224,133,530 parameters, 0 gradients, 272.8 GFLOPs\n",
      "\u001b[34m\u001b[1mval: \u001b[0mFast image access ✅ (ping: 0.0±0.0 ms, read: 4818.5±251.6 MB/s, size: 1311.0 KB)\n"
     ]
    },
    {
     "name": "stderr",
     "output_type": "stream",
     "text": [
      "\u001b[34m\u001b[1mval: \u001b[0mScanning /home/data/pace/toycar_can_v2/val/labels.cache... 6552 images, 8 backgrounds, 0 corrupt: 100%|██████████| 6552/6552 [00:00<?, ?it/s]\n",
      "                 Class     Images  Instances      Box(P          R      mAP50  mAP50-95): 100%|██████████| 410/410 [01:20<00:00,  5.12it/s]\n"
     ]
    },
    {
     "name": "stdout",
     "output_type": "stream",
     "text": [
      "                   all       6552       7071        0.4      0.296      0.499      0.387\n",
      "                toycar       3522       4049       0.77      0.592      0.726      0.565\n",
      "                   can       3022       3022     0.0294   0.000331      0.273      0.208\n",
      "Speed: 0.1ms preprocess, 10.1ms inference, 0.0ms loss, 0.5ms postprocess per image\n",
      "Results saved to \u001b[1m/home/vagarwal/RIPS25-AnalogDevices-ObjectDetection/runs/detect/val14\u001b[0m\n"
     ]
    }
   ],
   "source": [
    "val_results_w_setclass = model.val(data='/home/data/configs/pace_v2.yaml', split='val', batch=16, workers=16)"
   ]
  },
  {
   "cell_type": "code",
   "execution_count": null,
   "id": "566451c7",
   "metadata": {},
   "outputs": [],
   "source": [
    "vid_path = '/home/data/pace/test/000000/rgb'\n",
    "# /home/data/pace/toycar_can_v2/test/images"
   ]
  },
  {
   "cell_type": "code",
   "execution_count": null,
   "id": "960f2f79",
   "metadata": {},
   "outputs": [],
   "source": [
    "results = model.track(source=[\"/home/data/pace/toycar_can_v2/test/images/21_0.png\", \"/home/data/pace/toycar_can_v2/test/images/21_1.png\"])"
   ]
  },
  {
   "cell_type": "code",
   "execution_count": null,
   "id": "0f1cfaf3",
   "metadata": {},
   "outputs": [],
   "source": [
    "results[0].save()"
   ]
  },
  {
   "cell_type": "code",
   "execution_count": null,
   "id": "b6c53cef",
   "metadata": {},
   "outputs": [],
   "source": [
    "# model.set_classes([\"plant\", \"computer\", \"light\", \"cup\"])\n",
    "model.set_classes([\"toy car\", \"can\"])"
   ]
  },
  {
   "cell_type": "code",
   "execution_count": null,
   "id": "feffff81",
   "metadata": {},
   "outputs": [],
   "source": [
    "model.info()"
   ]
  },
  {
   "cell_type": "code",
   "execution_count": null,
   "id": "6eae427e",
   "metadata": {},
   "outputs": [],
   "source": [
    "preds = model.predict(\"/home/data/pace/toycar_can_v2/val/images\")"
   ]
  },
  {
   "cell_type": "code",
   "execution_count": null,
   "id": "90cc4c95",
   "metadata": {},
   "outputs": [],
   "source": [
    "preds[2300].show()"
   ]
  },
  {
   "cell_type": "code",
   "execution_count": null,
   "id": "4f84e808",
   "metadata": {},
   "outputs": [],
   "source": [
    "# results = model([\"img1.jpeg\", \"img2.webp\"])  # return a list of Results objects\n",
    "results = model([\"/home/data/pace/toycar_can_v2/train/images/0_0.png\"])"
   ]
  },
  {
   "cell_type": "code",
   "execution_count": null,
   "id": "7ac1a60a",
   "metadata": {},
   "outputs": [],
   "source": [
    "# Process results list\n",
    "for result in results:\n",
    "    boxes = result.boxes  # Boxes object for bounding box outputs\n",
    "    masks = result.masks  # Masks object for segmentation masks outputs\n",
    "    keypoints = result.keypoints  # Keypoints object for pose outputs\n",
    "    probs = result.probs  # Probs object for classification outputs\n",
    "    obb = result.obb  # Oriented boxes object for OBB outputs\n",
    "    result.show()  # display to screen"
   ]
  }
 ],
 "metadata": {
  "kernelspec": {
   "display_name": "env",
   "language": "python",
   "name": "python3"
  },
  "language_info": {
   "codemirror_mode": {
    "name": "ipython",
    "version": 3
   },
   "file_extension": ".py",
   "mimetype": "text/x-python",
   "name": "python",
   "nbconvert_exporter": "python",
   "pygments_lexer": "ipython3",
   "version": "3.10.12"
  }
 },
 "nbformat": 4,
 "nbformat_minor": 5
}
