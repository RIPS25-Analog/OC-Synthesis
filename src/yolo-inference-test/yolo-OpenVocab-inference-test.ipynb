{
 "cells": [
  {
   "cell_type": "code",
   "execution_count": 1,
   "id": "f355d39b",
   "metadata": {},
   "outputs": [],
   "source": [
    "from ultralytics import YOLOWorld"
   ]
  },
  {
   "cell_type": "code",
   "execution_count": 2,
   "id": "f0a72a4f",
   "metadata": {},
   "outputs": [],
   "source": [
    "# model = YOLOWorld(\"yolov8s-worldv2.pt\")\n",
    "# model = YOLOWorld(\"yolov8x-worldv2.pt\")\n",
    "model = YOLOWorld(\"/home/wandb-runs/pace-v2/ftp39cwy/light-sweep-3/weights/best.pt\")"
   ]
  },
  {
   "cell_type": "code",
   "execution_count": 3,
   "id": "c96b449c",
   "metadata": {},
   "outputs": [],
   "source": [
    "model.set_classes([\"toycar\", \"can\"])"
   ]
  },
  {
   "cell_type": "code",
   "execution_count": 7,
   "id": "a76cfb6b",
   "metadata": {},
   "outputs": [
    {
     "name": "stdout",
     "output_type": "stream",
     "text": [
      "Ultralytics 8.3.167 🚀 Python-3.10.12 torch-2.7.1+cu126 CUDA:0 (NVIDIA A10, 22599MiB)\n",
      "YOLOv8x-worldv2 summary (fused): 127 layers, 72,856,217 parameters, 0 gradients, 272.8 GFLOPs\n",
      "\u001b[34m\u001b[1mval: \u001b[0mFast image access ✅ (ping: 0.0±0.0 ms, read: 5396.9±630.8 MB/s, size: 1178.2 KB)\n"
     ]
    },
    {
     "name": "stderr",
     "output_type": "stream",
     "text": [
      "\u001b[34m\u001b[1mval: \u001b[0mScanning /home/data/pace/toycar_can_v2/train/labels.cache... 6198 images, 676 backgrounds, 0 corrupt: 100%|██████████| 6700/6700 [00:00<?, ?it/s]\n",
      "                 Class     Images  Instances      Box(P          R      mAP50  mAP50-95): 100%|██████████| 419/419 [02:02<00:00,  3.42it/s]\n"
     ]
    },
    {
     "name": "stdout",
     "output_type": "stream",
     "text": [
      "                   all       6700       6024      0.787      0.543      0.728      0.552\n",
      "               toy_car       3598       3598      0.734      0.583      0.723       0.52\n",
      "                   can       2426       2426       0.84      0.504      0.733      0.583\n",
      "Speed: 0.1ms preprocess, 16.0ms inference, 0.0ms loss, 0.6ms postprocess per image\n",
      "Results saved to \u001b[1m/home/vagarwal/RIPS25-AnalogDevices-ObjectDetection/runs/detect/val7\u001b[0m\n"
     ]
    }
   ],
   "source": [
    "train_results = model.val(data='/home/data/configs/pace_v2.yaml', split='train', batch=16, workers=16)"
   ]
  },
  {
   "cell_type": "code",
   "execution_count": null,
   "id": "27803ab5",
   "metadata": {},
   "outputs": [
    {
     "name": "stdout",
     "output_type": "stream",
     "text": [
      "Ultralytics 8.3.167 🚀 Python-3.10.12 torch-2.7.1+cu126 CUDA:0 (NVIDIA A10, 22599MiB)\n",
      "YOLOv8x-worldv2 summary: 276 layers, 224,133,530 parameters, 151,277,313 gradients, 272.8 GFLOPs\n",
      "\u001b[34m\u001b[1mval: \u001b[0mFast image access ✅ (ping: 0.0±0.0 ms, read: 4003.2±2177.1 MB/s, size: 888.5 KB)\n"
     ]
    },
    {
     "name": "stderr",
     "output_type": "stream",
     "text": [
      "\u001b[34m\u001b[1mval: \u001b[0mScanning /home/data/pace/toycar_can_v2/train/labels.cache... 6198 images, 676 backgrounds, 0 corrupt: 100%|██████████| 6700/6700 [00:00<?, ?it/s]\n",
      "                 Class     Images  Instances      Box(P          R      mAP50  mAP50-95): 100%|██████████| 419/419 [02:02<00:00,  3.41it/s]\n"
     ]
    },
    {
     "name": "stdout",
     "output_type": "stream",
     "text": [
      "                   all       6700       6024      0.869      0.519      0.748      0.569\n",
      "                toycar       3598       3598      0.933      0.482      0.762      0.555\n",
      "                   can       2426       2426      0.805      0.557      0.734      0.583\n",
      "Speed: 0.1ms preprocess, 16.0ms inference, 0.0ms loss, 0.6ms postprocess per image\n",
      "Results saved to \u001b[1m/home/vagarwal/RIPS25-AnalogDevices-ObjectDetection/runs/detect/val8\u001b[0m\n"
     ]
    }
   ],
   "source": [
    "train_results_w_set_class = model.val(data='/home/data/configs/pace_v2.yaml', split='train', batch=16, workers=16)"
   ]
  },
  {
   "cell_type": "code",
   "execution_count": 3,
   "id": "71994b4a",
   "metadata": {},
   "outputs": [
    {
     "name": "stdout",
     "output_type": "stream",
     "text": [
      "Ultralytics 8.3.167 🚀 Python-3.10.12 torch-2.7.1+cu126 CUDA:0 (NVIDIA A10, 22599MiB)\n",
      "YOLOv8x-worldv2 summary (fused): 127 layers, 72,856,217 parameters, 0 gradients, 272.8 GFLOPs\n",
      "\u001b[34m\u001b[1mval: \u001b[0mFast image access ✅ (ping: 0.0±0.0 ms, read: 3575.1±2358.8 MB/s, size: 1408.8 KB)\n"
     ]
    },
    {
     "name": "stderr",
     "output_type": "stream",
     "text": [
      "\u001b[34m\u001b[1mval: \u001b[0mScanning /home/data/pace/toycar_can_v2/test/labels.cache... 4341 images, 100 backgrounds, 0 corrupt: 100%|██████████| 4341/4341 [00:00<?, ?it/s]\n",
      "                 Class     Images  Instances      Box(P          R      mAP50  mAP50-95): 100%|██████████| 272/272 [01:18<00:00,  3.47it/s]\n"
     ]
    },
    {
     "name": "stdout",
     "output_type": "stream",
     "text": [
      "                   all       4341       5349      0.826      0.477       0.59      0.445\n",
      "               toy_car       2259       3367      0.711      0.321      0.441      0.308\n",
      "                   can       1982       1982       0.94      0.634      0.739      0.581\n",
      "Speed: 0.1ms preprocess, 15.8ms inference, 0.0ms loss, 0.6ms postprocess per image\n",
      "Results saved to \u001b[1m/home/vagarwal/RIPS25-AnalogDevices-ObjectDetection/runs/detect/val10\u001b[0m\n"
     ]
    }
   ],
   "source": [
    "test_results = model.val(data='/home/data/configs/pace_v2.yaml', split='test', batch=16, workers=16)"
   ]
  },
  {
   "cell_type": "code",
   "execution_count": 6,
   "id": "545abc00",
   "metadata": {},
   "outputs": [
    {
     "name": "stdout",
     "output_type": "stream",
     "text": [
      "Ultralytics 8.3.167 🚀 Python-3.10.12 torch-2.7.1+cu126 CUDA:0 (NVIDIA A10, 22599MiB)\n",
      "YOLOv8x-worldv2 summary: 276 layers, 224,133,530 parameters, 0 gradients, 272.8 GFLOPs\n",
      "\u001b[34m\u001b[1mval: \u001b[0mFast image access ✅ (ping: 0.0±0.0 ms, read: 4364.7±646.1 MB/s, size: 1402.2 KB)\n"
     ]
    },
    {
     "name": "stderr",
     "output_type": "stream",
     "text": [
      "\u001b[34m\u001b[1mval: \u001b[0mScanning /home/data/pace/toycar_can_v2/test/labels.cache... 4341 images, 100 backgrounds, 0 corrupt: 100%|██████████| 4341/4341 [00:00<?, ?it/s]\n",
      "                 Class     Images  Instances      Box(P          R      mAP50  mAP50-95): 100%|██████████| 272/272 [01:19<00:00,  3.44it/s]\n"
     ]
    },
    {
     "name": "stdout",
     "output_type": "stream",
     "text": [
      "                   all       4341       5349       0.92      0.442      0.608      0.459\n",
      "                toycar       2259       3367      0.924      0.238       0.48       0.34\n",
      "                   can       1982       1982      0.915      0.646      0.735      0.578\n",
      "Speed: 0.1ms preprocess, 15.7ms inference, 0.0ms loss, 0.6ms postprocess per image\n",
      "Results saved to \u001b[1m/home/vagarwal/RIPS25-AnalogDevices-ObjectDetection/runs/detect/val9\u001b[0m\n"
     ]
    }
   ],
   "source": [
    "test_results_w_setclass = model.val(data='/home/data/configs/pace_v2.yaml', split='test', batch=16, workers=16)"
   ]
  },
  {
   "cell_type": "code",
   "execution_count": 4,
   "id": "e549fc73",
   "metadata": {},
   "outputs": [
    {
     "name": "stdout",
     "output_type": "stream",
     "text": [
      "Ultralytics 8.3.167 🚀 Python-3.10.12 torch-2.7.1+cu126 CUDA:0 (NVIDIA A10, 22599MiB)\n",
      "\u001b[34m\u001b[1mval: \u001b[0mFast image access ✅ (ping: 0.0±0.0 ms, read: 4556.2±773.6 MB/s, size: 1123.1 KB)\n"
     ]
    },
    {
     "name": "stderr",
     "output_type": "stream",
     "text": [
      "\u001b[34m\u001b[1mval: \u001b[0mScanning /home/data/pace/toycar_can_v2/val/labels.cache... 6552 images, 8 backgrounds, 0 corrupt: 100%|██████████| 6552/6552 [00:00<?, ?it/s]\n",
      "                 Class     Images  Instances      Box(P          R      mAP50  mAP50-95): 100%|██████████| 410/410 [02:00<00:00,  3.39it/s]\n"
     ]
    },
    {
     "name": "stdout",
     "output_type": "stream",
     "text": [
      "                   all       6552       7071      0.808      0.656      0.808      0.608\n",
      "               toy_car       3522       4049       0.68      0.795      0.832      0.627\n",
      "                   can       3022       3022      0.935      0.517      0.784      0.589\n",
      "Speed: 0.1ms preprocess, 16.0ms inference, 0.0ms loss, 0.6ms postprocess per image\n",
      "Results saved to \u001b[1m/home/vagarwal/RIPS25-AnalogDevices-ObjectDetection/runs/detect/val11\u001b[0m\n"
     ]
    }
   ],
   "source": [
    "val_results = model.val(data='/home/data/configs/pace_v2.yaml', split='val', batch=16, workers=16)"
   ]
  },
  {
   "cell_type": "code",
   "execution_count": 4,
   "id": "e0f905ba",
   "metadata": {},
   "outputs": [
    {
     "name": "stdout",
     "output_type": "stream",
     "text": [
      "Ultralytics 8.3.167 🚀 Python-3.10.12 torch-2.7.1+cu126 CUDA:0 (NVIDIA A10, 22599MiB)\n",
      "YOLOv8x-worldv2 summary: 276 layers, 224,133,530 parameters, 151,277,313 gradients, 272.8 GFLOPs\n",
      "\u001b[34m\u001b[1mval: \u001b[0mFast image access ✅ (ping: 0.0±0.0 ms, read: 4889.3±399.2 MB/s, size: 1178.7 KB)\n"
     ]
    },
    {
     "name": "stderr",
     "output_type": "stream",
     "text": [
      "\u001b[34m\u001b[1mval: \u001b[0mScanning /home/data/pace/toycar_can_v2/val/labels.cache... 6552 images, 8 backgrounds, 0 corrupt: 100%|██████████| 6552/6552 [00:00<?, ?it/s]\n",
      "                 Class     Images  Instances      Box(P          R      mAP50  mAP50-95): 100%|██████████| 410/410 [01:59<00:00,  3.42it/s]\n"
     ]
    },
    {
     "name": "stdout",
     "output_type": "stream",
     "text": [
      "                   all       6552       7071      0.913      0.647      0.821       0.62\n",
      "                toycar       3522       4049      0.907      0.734      0.859      0.653\n",
      "                   can       3022       3022       0.92      0.561      0.783      0.588\n",
      "Speed: 0.1ms preprocess, 15.9ms inference, 0.0ms loss, 0.6ms postprocess per image\n",
      "Results saved to \u001b[1m/home/vagarwal/RIPS25-AnalogDevices-ObjectDetection/runs/detect/val12\u001b[0m\n"
     ]
    }
   ],
   "source": [
    "val_results_w_setclass = model.val(data='/home/data/configs/pace_v2.yaml', split='val', batch=16, workers=16)"
   ]
  },
  {
   "cell_type": "code",
   "execution_count": null,
   "id": "566451c7",
   "metadata": {},
   "outputs": [],
   "source": [
    "vid_path = '/home/data/pace/test/000000/rgb'\n",
    "# /home/data/pace/toycar_can_v2/test/images"
   ]
  },
  {
   "cell_type": "code",
   "execution_count": null,
   "id": "960f2f79",
   "metadata": {},
   "outputs": [],
   "source": [
    "results = model.track(source=[\"/home/data/pace/toycar_can_v2/test/images/21_0.png\", \"/home/data/pace/toycar_can_v2/test/images/21_1.png\"])"
   ]
  },
  {
   "cell_type": "code",
   "execution_count": null,
   "id": "0f1cfaf3",
   "metadata": {},
   "outputs": [],
   "source": [
    "results[0].save()"
   ]
  },
  {
   "cell_type": "code",
   "execution_count": null,
   "id": "b6c53cef",
   "metadata": {},
   "outputs": [],
   "source": [
    "# model.set_classes([\"plant\", \"computer\", \"light\", \"cup\"])\n",
    "model.set_classes([\"toy car\", \"can\"])"
   ]
  },
  {
   "cell_type": "code",
   "execution_count": null,
   "id": "feffff81",
   "metadata": {},
   "outputs": [],
   "source": [
    "model.info()"
   ]
  },
  {
   "cell_type": "code",
   "execution_count": null,
   "id": "6eae427e",
   "metadata": {},
   "outputs": [],
   "source": [
    "preds = model.predict(\"/home/data/pace/toycar_can_v2/val/images\")"
   ]
  },
  {
   "cell_type": "code",
   "execution_count": null,
   "id": "90cc4c95",
   "metadata": {},
   "outputs": [],
   "source": [
    "preds[2300].show()"
   ]
  },
  {
   "cell_type": "code",
   "execution_count": null,
   "id": "4f84e808",
   "metadata": {},
   "outputs": [],
   "source": [
    "# results = model([\"img1.jpeg\", \"img2.webp\"])  # return a list of Results objects\n",
    "results = model([\"/home/data/pace/toycar_can_v2/train/images/0_0.png\"])"
   ]
  },
  {
   "cell_type": "code",
   "execution_count": null,
   "id": "7ac1a60a",
   "metadata": {},
   "outputs": [],
   "source": [
    "# Process results list\n",
    "for result in results:\n",
    "    boxes = result.boxes  # Boxes object for bounding box outputs\n",
    "    masks = result.masks  # Masks object for segmentation masks outputs\n",
    "    keypoints = result.keypoints  # Keypoints object for pose outputs\n",
    "    probs = result.probs  # Probs object for classification outputs\n",
    "    obb = result.obb  # Oriented boxes object for OBB outputs\n",
    "    result.show()  # display to screen"
   ]
  }
 ],
 "metadata": {
  "kernelspec": {
   "display_name": "env",
   "language": "python",
   "name": "python3"
  },
  "language_info": {
   "codemirror_mode": {
    "name": "ipython",
    "version": 3
   },
   "file_extension": ".py",
   "mimetype": "text/x-python",
   "name": "python",
   "nbconvert_exporter": "python",
   "pygments_lexer": "ipython3",
   "version": "3.10.12"
  }
 },
 "nbformat": 4,
 "nbformat_minor": 5
}
