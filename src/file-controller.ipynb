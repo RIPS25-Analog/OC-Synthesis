{
 "cells": [
  {
   "cell_type": "markdown",
   "id": "4be869f2",
   "metadata": {},
   "source": [
    "# Cut n Paste File Processing"
   ]
  },
  {
   "cell_type": "code",
   "execution_count": 1,
   "id": "8877e829",
   "metadata": {},
   "outputs": [],
   "source": [
    "dataset_unsplit_root = '/home/data/processed/cnp-pace/toycar_can_v0-unsplit'\n",
    "dataset_final_root = '/home/data/processed/cnp-pace/toycar_can_v0'\n",
    "classes_to_keep = [0, 1]"
   ]
  },
  {
   "cell_type": "code",
   "execution_count": 2,
   "id": "b89b7d34",
   "metadata": {},
   "outputs": [],
   "source": [
    "suffixes = ['none', 'box', 'gaussian', 'poisson', 'motion']\n",
    "# given a folder source_dir containing .txt files with bounding boxes in darknet format, and a folder images_source containing images\n",
    "# copy these to a new folder except edit the .txt files to only include bounding boxes of certain classes (0,1)\n",
    "import glob, os\n",
    "def filter_bboxes_classes_and_add_suffixes(source_dir, output_dir, classes_to_keep):\n",
    "\tif not os.path.exists(output_dir):\n",
    "\t\tos.makedirs(output_dir)\n",
    "\t\n",
    "\tfor label_file in glob.glob(os.path.join(source_dir, '*.txt')):\n",
    "\t\twith open(label_file, 'r') as f:\n",
    "\t\t\tlines = f.readlines()\n",
    "\t\t\n",
    "\t\tfiltered_lines = []\n",
    "\t\tfor line in lines:\n",
    "\t\t\tparts = line.strip().split()\n",
    "\t\t\tif len(parts) > 0 and int(parts[0]) in classes_to_keep:\n",
    "\t\t\t\tfiltered_lines.append(line)\n",
    "\t\t\n",
    "\t\t# if filtered_lines:\n",
    "\t\t# Write the filtered bounding boxes to a new file\n",
    "\t\tfor suffix in suffixes:\n",
    "\t\t\toutput_label_file = label_file.replace(source_dir, output_dir).replace('.txt', f'_{suffix}.txt')\n",
    "\t\t\tif not os.path.exists(output_label_file):\n",
    "\t\t\t\twith open(output_label_file, 'w') as f:\n",
    "\t\t\t\t\tf.writelines(filtered_lines)\n",
    "\t\t\telse:\n",
    "\t\t\t\tprint(f\"Skipping {output_label_file} as it already exists.\")\n",
    "\n",
    "filter_bboxes_classes_and_add_suffixes(os.path.join(dataset_unsplit_root, 'labels-orig'), os.path.join(dataset_unsplit_root, 'labels'), classes_to_keep)"
   ]
  },
  {
   "cell_type": "code",
   "execution_count": 4,
   "id": "65234f8f",
   "metadata": {},
   "outputs": [
    {
     "data": {
      "text/plain": [
       "['/home/data/processed/cnp-pace/toycar_can_v0-unsplit/images/1000_box.jpg',\n",
       " '/home/data/processed/cnp-pace/toycar_can_v0-unsplit/images/1000_gaussian.jpg',\n",
       " '/home/data/processed/cnp-pace/toycar_can_v0-unsplit/images/1000_motion.jpg',\n",
       " '/home/data/processed/cnp-pace/toycar_can_v0-unsplit/images/1000_none.jpg',\n",
       " '/home/data/processed/cnp-pace/toycar_can_v0-unsplit/images/1000_poisson.jpg',\n",
       " '/home/data/processed/cnp-pace/toycar_can_v0-unsplit/images/1001_box.jpg',\n",
       " '/home/data/processed/cnp-pace/toycar_can_v0-unsplit/images/1001_gaussian.jpg',\n",
       " '/home/data/processed/cnp-pace/toycar_can_v0-unsplit/images/1001_motion.jpg',\n",
       " '/home/data/processed/cnp-pace/toycar_can_v0-unsplit/images/1001_none.jpg',\n",
       " '/home/data/processed/cnp-pace/toycar_can_v0-unsplit/images/1001_poisson.jpg']"
      ]
     },
     "execution_count": 4,
     "metadata": {},
     "output_type": "execute_result"
    }
   ],
   "source": [
    "images = sorted(glob.glob(os.path.join(dataset_unsplit_root, 'images', '*.png'))+glob.glob(os.path.join(dataset_unsplit_root, 'images', '*.jpg')))\n",
    "images[:10]"
   ]
  },
  {
   "cell_type": "code",
   "execution_count": 5,
   "id": "287983ba",
   "metadata": {},
   "outputs": [
    {
     "data": {
      "text/plain": [
       "['/home/data/processed/cnp-pace/toycar_can_v0-unsplit/labels/1000_box.txt',\n",
       " '/home/data/processed/cnp-pace/toycar_can_v0-unsplit/labels/1000_gaussian.txt',\n",
       " '/home/data/processed/cnp-pace/toycar_can_v0-unsplit/labels/1000_motion.txt',\n",
       " '/home/data/processed/cnp-pace/toycar_can_v0-unsplit/labels/1000_none.txt',\n",
       " '/home/data/processed/cnp-pace/toycar_can_v0-unsplit/labels/1000_poisson.txt',\n",
       " '/home/data/processed/cnp-pace/toycar_can_v0-unsplit/labels/1001_box.txt',\n",
       " '/home/data/processed/cnp-pace/toycar_can_v0-unsplit/labels/1001_gaussian.txt',\n",
       " '/home/data/processed/cnp-pace/toycar_can_v0-unsplit/labels/1001_motion.txt',\n",
       " '/home/data/processed/cnp-pace/toycar_can_v0-unsplit/labels/1001_none.txt',\n",
       " '/home/data/processed/cnp-pace/toycar_can_v0-unsplit/labels/1001_poisson.txt']"
      ]
     },
     "execution_count": 5,
     "metadata": {},
     "output_type": "execute_result"
    }
   ],
   "source": [
    "labels = sorted(glob.glob(os.path.join(dataset_unsplit_root, 'labels', '*.txt')))\n",
    "labels[:10]"
   ]
  },
  {
   "cell_type": "code",
   "execution_count": 6,
   "id": "d8e22f47",
   "metadata": {},
   "outputs": [
    {
     "data": {
      "text/plain": [
       "(18030, 18030)"
      ]
     },
     "execution_count": 6,
     "metadata": {},
     "output_type": "execute_result"
    }
   ],
   "source": [
    "len(images), len(labels)"
   ]
  },
  {
   "cell_type": "code",
   "execution_count": 7,
   "id": "a9affc32",
   "metadata": {},
   "outputs": [
    {
     "name": "stdout",
     "output_type": "stream",
     "text": [
      "Total unique images 3606, train: 2524, val: 721, test: 360\n"
     ]
    }
   ],
   "source": [
    "# split the train/images and train/labels files from a given folder into val and test as well\n",
    "import random\n",
    "import shutil\n",
    "import os, glob\n",
    "\n",
    "random.seed(0)\n",
    "def split_cnp_into_train_val_test(source_dir, dest_parent_dir=None, train_ratio=0.7, val_ratio=0.2, test_ratio=0.1):\n",
    "\t\"\"\"\n",
    "\tSplits the images and labels in the source directory into train, val, and test sets.\n",
    "\tThe source directory should contain 'images' and 'labels' subdirectories.\n",
    "\t\"\"\"\n",
    "\tif dest_parent_dir is None:\n",
    "\t\tdest_parent_dir = source_dir\n",
    "\tif os.path.exists(dest_parent_dir):\n",
    "\t\traise FileExistsError(f\"Destination parent directory {dest_parent_dir} already exists. Not risking the overwrite.\")\n",
    "\n",
    "\timages_dir = os.path.join(source_dir, 'images')\n",
    "\tlabels_dir = os.path.join(source_dir, 'labels')\n",
    "\n",
    "\timages = sorted(glob.glob(os.path.join(images_dir, '*.png'))+glob.glob(os.path.join(images_dir, '*.jpg')))\n",
    "\t\n",
    "\timage_ids = list(set([os.path.basename(img).split('_')[0] for img in images]))\n",
    "\trandom.shuffle(image_ids)\n",
    "\ttrain_size = int(len(image_ids) * train_ratio)\n",
    "\tval_size = int(len(image_ids) * val_ratio)\n",
    "\ttest_size = int(len(image_ids) * test_ratio)\n",
    "\tprint(f'Total unique images {len(image_ids)}, train: {train_size}, val: {val_size}, test: {test_size}')\n",
    "\ttrain_image_ids = image_ids[:train_size]\n",
    "\tval_image_ids = image_ids[train_size:train_size + val_size]\n",
    "\ttest_image_ids = image_ids[train_size + val_size:train_size + val_size + test_size]\n",
    "\n",
    "\tfor split in ['train', 'val', 'test']:\n",
    "\t\tdest_dir = os.path.join(dest_parent_dir, split, 'images')\n",
    "\t\tlabel_dest_dir = os.path.join(dest_parent_dir, split, 'labels')\n",
    "\t\t\n",
    "\t\tos.makedirs(dest_dir, exist_ok=False) # raise error if directory exists\n",
    "\t\tos.makedirs(label_dest_dir, exist_ok=False) # raise error if directory exists\n",
    "\n",
    "\tfor img in images:\n",
    "\t\timg_id = os.path.basename(img).split('_')[0]\n",
    "\t\tif img_id in train_image_ids:\n",
    "\t\t\tsplit = 'train'\n",
    "\t\telif img_id in val_image_ids:\n",
    "\t\t\tsplit = 'val'\n",
    "\t\telif img_id in test_image_ids:\n",
    "\t\t\tsplit = 'test'\n",
    "\t\telse:\n",
    "\t\t\tcontinue\n",
    "\n",
    "\t\tlabel = os.path.join(labels_dir, os.path.basename(img).replace('.png', '.txt').replace('.jpg', '.txt'))\n",
    "\n",
    "\t\tdest_dir = os.path.join(dest_parent_dir, split, 'images')\n",
    "\t\tlabel_dest_dir = os.path.join(dest_parent_dir, split, 'labels')\n",
    "\n",
    "\t\tshutil.copy(img, os.path.join(dest_dir, os.path.basename(img)))\n",
    "\t\tshutil.copy(label, os.path.join(label_dest_dir, os.path.basename(label)))\n",
    "\n",
    "split_cnp_into_train_val_test(dataset_unsplit_root, \n",
    "\t\t\t\t\t dest_parent_dir=dataset_final_root,\n",
    "\t\t\t\t\t train_ratio = 0.7, val_ratio = 0.2, test_ratio = 0.1)"
   ]
  },
  {
   "cell_type": "markdown",
   "id": "cd0ab3d0",
   "metadata": {},
   "source": [
    "# Other file processing code"
   ]
  },
  {
   "cell_type": "code",
   "execution_count": null,
   "id": "217669a3",
   "metadata": {},
   "outputs": [],
   "source": [
    "# write script to check every image in a given directory and use PIL to see how many bands it has (RGB  vs RGBA)\n",
    "import os\n",
    "def check_image_bands(directory):\n",
    "\tfor filename in os.listdir(directory):\n",
    "\t\tif filename.endswith('.jpg') or filename.endswith('.png'):\n",
    "\t\t\timage_path = os.path.join(directory, filename)\n",
    "\t\t\ttry:\n",
    "\t\t\t\twith Image.open(image_path) as img:\n",
    "\t\t\t\t\tbands = img.getbands()\n",
    "\t\t\t\t\tprint(f\"{filename}: {bands}\")\n",
    "\t\t\texcept Exception as e:\n",
    "\t\t\t\tprint(f\"Error processing {filename}: {e}\")\n",
    "\n",
    "# check_image_bands('/home/data/raw/kaggle_v0/hammer/images')"
   ]
  },
  {
   "cell_type": "code",
   "execution_count": null,
   "id": "3ff6d5e3",
   "metadata": {},
   "outputs": [],
   "source": [
    "# given a directory containing text files in darnket format, i want you to change class label 82 to 30 and 115 to 45\n",
    "import glob\n",
    "import os\n",
    "def change_class_labels_in_darknet_format(input_dir, output_dir, class_mappings):\n",
    "\t\"\"\"\n",
    "\tChange class labels in darknet format files in the specified directory.\n",
    "\t\n",
    "\tArgs:\n",
    "\t\tdirectory (str): Path to the directory containing .txt files.\n",
    "\t\tclass_mappings (dict): Dictionary mapping old class labels to new class labels.\n",
    "\t\t(key should be whatever faulty label you have, value should be the correct O365 label)\n",
    "\t\"\"\"\n",
    "\tif not os.path.exists(output_dir):\n",
    "\t\tos.makedirs(output_dir)\n",
    "\n",
    "\tfor filename in glob.glob(os.path.join(input_dir, '*.txt')):\n",
    "\t\twith open(filename, 'r') as file:\n",
    "\t\t\tlines = file.readlines()\n",
    "\t\t\n",
    "\t\toutput_file = os.path.join(output_dir, os.path.basename(filename))\n",
    "\t\twith open(output_file, 'w') as file:\n",
    "\t\t\tfor line in lines:\n",
    "\t\t\t\tparts = line.strip().split()\n",
    "\t\t\t\tif (len(parts) > 0) and (parts[0] in class_mappings):\n",
    "\t\t\t\t\tparts[0] = str(class_mappings[parts[0]])\n",
    "\t\t\t\t\tfile.write(' '.join(parts) + '\\n')\n",
    "\n",
    "# change_class_labels_in_darknet_format('/home/data/3d_render/combined_output/labels-orig', \n",
    "# \t\t\t\t\t\t\t\t\t  '/home/data/3d_render/combined_output/labels',\n",
    "# \t\t\t\t\t\t\t\t\t  {'toy_car': 0, 'can': 1})"
   ]
  },
  {
   "cell_type": "code",
   "execution_count": 5,
   "id": "2580a079",
   "metadata": {},
   "outputs": [
    {
     "name": "stdout",
     "output_type": "stream",
     "text": [
      "Total unique images 521, train: 364, val: 104, test: 52\n"
     ]
    }
   ],
   "source": [
    "import random\n",
    "import shutil\n",
    "import os, glob\n",
    "\n",
    "random.seed(0)\n",
    "\n",
    "dataset_unsplit_root = '/home/data/3d_render/combined_output'\n",
    "dataset_final_root = '/home/data/processed/3d_render/'\n",
    "\n",
    "def split_3d_into_train_val_test(source_dir, dest_parent_dir=None, train_ratio=0.7, val_ratio=0.2, test_ratio=0.1):\n",
    "\t\"\"\"\n",
    "\tSplits the images and labels in the source directory into train, val, and test sets.\n",
    "\tThe source directory should contain 'images' and 'labels' subdirectories.\n",
    "\t\"\"\"\n",
    "\tif dest_parent_dir is None:\n",
    "\t\tdest_parent_dir = source_dir\n",
    "\tif os.path.exists(dest_parent_dir):\n",
    "\t\traise FileExistsError(f\"Destination parent directory {dest_parent_dir} already exists. Not risking the overwrite.\")\n",
    "\n",
    "\timages_dir = os.path.join(source_dir, 'images')\n",
    "\tlabels_dir = os.path.join(source_dir, 'labels')\n",
    "\n",
    "\timages = sorted(glob.glob(os.path.join(images_dir, '*.png'))+glob.glob(os.path.join(images_dir, '*.jpg')))\n",
    "\n",
    "\timage_ids = list(set(['_'.join(os.path.basename(img).split('_')[:-1]) for img in images]))\n",
    "\trandom.shuffle(image_ids)\n",
    "\ttrain_size = int(len(image_ids) * train_ratio)\n",
    "\tval_size = int(len(image_ids) * val_ratio)\n",
    "\ttest_size = int(len(image_ids) * test_ratio)\n",
    "\tprint(f'Total unique images {len(image_ids)}, train: {train_size}, val: {val_size}, test: {test_size}')\n",
    "\ttrain_image_ids = image_ids[:train_size]\n",
    "\tval_image_ids = image_ids[train_size:train_size + val_size]\n",
    "\ttest_image_ids = image_ids[train_size + val_size:train_size + val_size + test_size]\n",
    "\n",
    "\tfor split in ['train', 'val', 'test']:\n",
    "\t\tdest_dir = os.path.join(dest_parent_dir, split, 'images')\n",
    "\t\tlabel_dest_dir = os.path.join(dest_parent_dir, split, 'labels')\n",
    "\t\t\n",
    "\t\tos.makedirs(dest_dir, exist_ok=False) # raise error if directory exists\n",
    "\t\tos.makedirs(label_dest_dir, exist_ok=False) # raise error if directory exists\n",
    "\n",
    "\tfor img in images:\n",
    "\t\timg_id = '_'.join(os.path.basename(img).split('_')[:-1])\n",
    "\t\tif img_id in train_image_ids:\n",
    "\t\t\tsplit = 'train'\n",
    "\t\telif img_id in val_image_ids:\n",
    "\t\t\tsplit = 'val'\n",
    "\t\telif img_id in test_image_ids:\n",
    "\t\t\tsplit = 'test'\n",
    "\t\telse:\n",
    "\t\t\tcontinue\n",
    "\n",
    "\t\tlabel = os.path.join(labels_dir, os.path.basename(img).replace('.png', '.txt').replace('.jpg', '.txt'))\n",
    "\n",
    "\t\tdest_dir = os.path.join(dest_parent_dir, split, 'images')\n",
    "\t\tlabel_dest_dir = os.path.join(dest_parent_dir, split, 'labels')\n",
    "\n",
    "\t\tshutil.copy(img, os.path.join(dest_dir, os.path.basename(img)))\n",
    "\t\tshutil.copy(label, os.path.join(label_dest_dir, os.path.basename(label)))\n",
    "\n",
    "split_3d_into_train_val_test(dataset_unsplit_root, \n",
    "\t\t\t\t\t dest_parent_dir=dataset_final_root,\n",
    "\t\t\t\t\t train_ratio = 0.7, val_ratio = 0.2, test_ratio = 0.1)"
   ]
  },
  {
   "cell_type": "code",
   "execution_count": null,
   "id": "5fc8642d",
   "metadata": {},
   "outputs": [],
   "source": [
    "import random\n",
    "import shutil\n",
    "import os, glob\n",
    "\n",
    "random.seed(0)\n",
    "def split_data_into_train_val_test(source_dir, dest_parent_dir=None, train_ratio=0.7, val_ratio=0.2, test_ratio=0.1):\n",
    "\t\"\"\"\n",
    "\tSplits the images and labels in the source directory into train, val, and test sets.\n",
    "\tThe source directory should contain 'images' and 'labels' subdirectories.\n",
    "\t\"\"\"\n",
    "\tif dest_parent_dir is None:\n",
    "\t\tdest_parent_dir = source_dir\n",
    "\n",
    "\timages_dir = os.path.join(source_dir, 'images')\n",
    "\tlabels_dir = os.path.join(source_dir, 'labels')\n",
    "\n",
    "\timages = sorted(glob.glob(os.path.join(images_dir, '*')))\n",
    "\tlabels = sorted(glob.glob(os.path.join(labels_dir, '*.txt')))\n",
    "\n",
    "\ttrain_size = int(len(images) * train_ratio)\n",
    "\tval_size = int(len(images) * val_ratio)\n",
    "\ttest_size = int(len(images) * test_ratio)\n",
    "\tsize = {'train': train_size, 'val': val_size, 'test': test_size}\n",
    "\tprint(f'Total unique images {len(images)}, train: {train_size}, val: {val_size}, test: {test_size}')\n",
    "\ttrain_image_ids = images[:train_size]\n",
    "\tval_image_ids = images[train_size:train_size + val_size]\n",
    "\ttest_image_ids = images[train_size + val_size:train_size + val_size + test_size]\n",
    "\n",
    "\tfor split in ['train', 'val', 'test']:\n",
    "\t\tif size[split] > 0:\n",
    "\t\t\tdest_dir = os.path.join(dest_parent_dir, split, 'images')\n",
    "\t\t\tlabel_dest_dir = os.path.join(dest_parent_dir, split, 'labels')\n",
    "\t\t\n",
    "\t\t\tos.makedirs(dest_dir, exist_ok=False) # raise error if directory exists\n",
    "\t\t\tos.makedirs(label_dest_dir, exist_ok=False) # raise error if directory exists\n",
    "\n",
    "\tfor img, label in zip(images, labels):\n",
    "\t\tif img in train_image_ids:\n",
    "\t\t\tsplit = 'train'\n",
    "\t\telif img in val_image_ids:\n",
    "\t\t\tsplit = 'val'\n",
    "\t\telif img in test_image_ids:\n",
    "\t\t\tsplit = 'test'\n",
    "\t\telse:\n",
    "\t\t\tcontinue\n",
    "\n",
    "\t\tdest_dir = os.path.join(dest_parent_dir, split, 'images')\n",
    "\t\tlabel_dest_dir = os.path.join(dest_parent_dir, split, 'labels')\n",
    "\n",
    "\t\tshutil.copy(img, os.path.join(dest_dir, os.path.basename(img)))\n",
    "\t\tshutil.copy(label, os.path.join(label_dest_dir, os.path.basename(label)))\n",
    "\n",
    "\n",
    "# split_data_into_train_val_test('/home/data/processed/mech_hammer_screwdriver/train/',\n",
    "# \t\t\t\t\t dest_parent_dir='/home/data/processed/mech_hammer_screwdriver-100train/',\n",
    "# \t\t\t\t\t train_ratio = 0.1, val_ratio = 0, test_ratio = 0)\n",
    "\n",
    "# split_data_into_train_val_test('/home/data/raw/objects365',\n",
    "# \t\t\t\t\t dest_parent_dir='/home/data/processed/kaggle_v0/cnp_vik-mid-orig-labels',\n",
    "# \t\t\t\t\t train_ratio = 0.0, val_ratio = 2/3, test_ratio = 1/3)\n"
   ]
  },
  {
   "cell_type": "code",
   "execution_count": null,
   "id": "bde7fe19",
   "metadata": {},
   "outputs": [],
   "source": [
    "import os,glob\n",
    "# theres a folder containing text files of the form [numeric_id]_[none/box/blur/...].txt\n",
    "# for each numeric id count how many files there are and print the id and count\n",
    "def count_files_by_id(directory, filetype):\n",
    "\t\"\"\"\n",
    "\tCount the number of files for each numeric ID in the specified directory.\n",
    "\t\n",
    "\tArgs:\n",
    "\t\tdirectory (str): Path to the directory containing text files.\n",
    "\t\"\"\"\n",
    "\tid_counts = {}\n",
    "\t\n",
    "\ttotal_file_count = 0\n",
    "\tfor filename in glob.glob(os.path.join(directory, '*')):\n",
    "\t\ttotal_file_count += 1\n",
    "\t\tif not filename.endswith(f'.{filetype}'):\n",
    "\t\t\tprint(f\"Skipping non-{filetype} file: {filename}\")\n",
    "\t\t\tcontinue\n",
    "\t\tbase_name = os.path.basename(filename)\n",
    "\t\tnumeric_id = base_name.split('_')[0]\n",
    "\t\t\n",
    "\t\tif numeric_id not in id_counts:\n",
    "\t\t\tid_counts[numeric_id] = 0\n",
    "\t\tid_counts[numeric_id] += 1\n",
    "\t\n",
    "\tfor numeric_id, count in id_counts.items():\n",
    "\t\tif count != 5:\n",
    "\t\t\tprint(f\"ID: {numeric_id}, Count: {count}\")\n",
    "\tprint(f'Found {total_file_count} files in total.')\n",
    "\n",
    "count_files_by_id('/home/data/processed/kaggle-cnp-v0/synthetic-227565-unsplit/images', 'jpg')"
   ]
  }
 ],
 "metadata": {
  "kernelspec": {
   "display_name": "env",
   "language": "python",
   "name": "python3"
  },
  "language_info": {
   "codemirror_mode": {
    "name": "ipython",
    "version": 3
   },
   "file_extension": ".py",
   "mimetype": "text/x-python",
   "name": "python",
   "nbconvert_exporter": "python",
   "pygments_lexer": "ipython3",
   "version": "3.10.12"
  }
 },
 "nbformat": 4,
 "nbformat_minor": 5
}
