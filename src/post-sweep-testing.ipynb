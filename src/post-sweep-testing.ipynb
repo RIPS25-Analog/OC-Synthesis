{
 "cells": [
  {
   "cell_type": "code",
   "execution_count": 2,
   "id": "12e41849",
   "metadata": {},
   "outputs": [],
   "source": [
    "import os\n",
    "import glob\n",
    "import shutil\n",
    "import csv\n",
    "import yaml\n",
    "import re\n",
    "from finetune_YOLO import YOLOFinetuner\n",
    "from evaluate_YOLO import YOLOEvaluator\n",
    "root_dir = '/home/wandb-runs/pace-v2/'"
   ]
  },
  {
   "cell_type": "code",
   "execution_count": null,
   "id": "5288afbf",
   "metadata": {},
   "outputs": [],
   "source": []
  },
  {
   "cell_type": "code",
   "execution_count": null,
   "id": "42c825f4",
   "metadata": {},
   "outputs": [],
   "source": [
    "sweep_dir = '/home/wandb-runs/pace-v2/2D_CNP-only-50/yejjmzte'\n",
    "run = 'confused-sweep-14'\n",
    "\n",
    "args = yaml.safe_load(open(os.path.join(sweep_dir, run, 'args.yaml')))\n",
    "args['epochs'] = 50\n",
    "args['patience'] = 20\n",
    "args['name'] = args['name'] + '_extended'\n",
    "args['save_dir'] = os.path.join(sweep_dir, args['name'])\n",
    "args['data'] = '/home/data/configs/pace_v2.yaml'\n",
    "args['project'] = sweep_dir.replace('pace-v2/', 'pace-v2-extended/')\n",
    "\n",
    "# ############################### TEMP #######################################################################\n",
    "# args['epochs'] = 2\n",
    "# args['fraction'] = 0.001\n",
    "\n",
    "yolo_finetuner = YOLOFinetuner(**args)\n",
    "results_train = yolo_finetuner.train_model()"
   ]
  },
  {
   "cell_type": "code",
   "execution_count": null,
   "id": "6b27f9ab",
   "metadata": {},
   "outputs": [],
   "source": []
  },
  {
   "cell_type": "markdown",
   "id": "12a599a4",
   "metadata": {},
   "source": [
    "# Sweep processing"
   ]
  },
  {
   "cell_type": "code",
   "execution_count": 2,
   "id": "717edfc9",
   "metadata": {},
   "outputs": [
    {
     "name": "stdout",
     "output_type": "stream",
     "text": [
      "/home/wandb-runs/pace-v2/2D_CNP-only-10/avno7wer\n",
      "- Found 24 val directories and 25 runs\n",
      "- Runs without val directories:\n",
      "\t- rose-sweep-1\n",
      "/home/wandb-runs/pace-v2/2D_CNP-only-20/a681wb08\n",
      "- Found 24 val directories and 25 runs\n",
      "- Runs without val directories:\n",
      "\t- restful-sweep-1\n",
      "/home/wandb-runs/pace-v2/real-only-10/gzpeeznn\n",
      "- Found 49 val directories and 50 runs\n",
      "- Runs without val directories:\n",
      "\t- jolly-sweep-1\n",
      "/home/wandb-runs/pace-v2/real-only-100/c4eio2ma\n",
      "- Found 31 val directories and 31 runs\n",
      "/home/wandb-runs/pace-v2/real-only-50/647zxr4l\n",
      "- Found 34 val directories and 34 runs\n"
     ]
    }
   ],
   "source": [
    "## Check which run within a given sweep set is missing a val dir which contains a yaml referring to it\n",
    "## to do this, first go through all the val dirs in that sweep set and check their yaml file to see which run they refer to\n",
    "for sweep_set_dir in sorted(glob.glob(os.path.join(root_dir, '*-*-*/'))):\n",
    "\tsweep_ids = [x for x in os.listdir(sweep_set_dir) if x!='discarded']\n",
    "\tassert len(sweep_ids)==1, f\"{len(sweep_ids)} sweeps found in {sweep_set_dir}, unsure which to use\"\n",
    "\tsweep_id = sweep_ids[0]\n",
    "\tsweep_set_dir = os.path.join(sweep_set_dir, sweep_id)\n",
    "\n",
    "\truns_w_validation = set() # runs which have corresponding validation folders present\n",
    "\tval_dirs = [d for d in os.listdir(sweep_set_dir) if re.match(r'^val\\d+', d)]\n",
    "\tfor val_dir in val_dirs:\n",
    "\t\tyaml_file = os.path.join(sweep_set_dir, val_dir, 'simple_evaluation_results.yaml')\n",
    "\t\tif os.path.exists(yaml_file):\n",
    "\t\t\twith open(yaml_file, 'r') as f:\n",
    "\t\t\t\tconfig = yaml.safe_load(f)\n",
    "\t\t\t\trun_name = config.get('model').split('/')[-3]\n",
    "\t\t\t\tif run_name:\n",
    "\t\t\t\t\truns_w_validation.add(run_name)\n",
    "\n",
    "\tall_runs = set(x.split('/')[-1] for x in glob.glob(os.path.join(sweep_set_dir, '*-*-*')))\n",
    "\tprint(sweep_set_dir)\n",
    "\tprint(f'- Found {len(val_dirs)} val directories and {len(all_runs)} runs')\n",
    "\n",
    "\tuncovered_runs = all_runs - runs_w_validation\n",
    "\tif uncovered_runs:\n",
    "\t\tprint(f\"- Runs without val directories:\")\n",
    "\tfor run in uncovered_runs:\n",
    "\t\tprint(f\"\t- {run}\")"
   ]
  },
  {
   "cell_type": "code",
   "execution_count": 3,
   "id": "78ac0ab6",
   "metadata": {},
   "outputs": [
    {
     "name": "stdout",
     "output_type": "stream",
     "text": [
      "Best runs in set /home/wandb-runs/pace-v2/real-only-50/647zxr4l:\n",
      " - smart-sweep-25: 48.75%\n",
      " - dashing-sweep-27: 44.87%\n",
      " - different-sweep-30: 43.70%\n",
      "Best runs in set /home/wandb-runs/pace-v2/real-only-100/c4eio2ma:\n",
      " - serene-sweep-22: 56.06%\n",
      " - ancient-sweep-19: 54.13%\n",
      " - rural-sweep-18: 51.99%\n",
      "Best runs in set /home/wandb-runs/pace-v2/2D_CNP-only-20/a681wb08:\n",
      " - soft-sweep-13: 49.45%\n",
      " - lucky-sweep-8: 49.37%\n",
      " - valiant-sweep-20: 48.55%\n",
      "Best runs in set /home/wandb-runs/pace-v2/real-only-10/gzpeeznn:\n",
      " - resilient-sweep-11: 23.32%\n",
      " - vibrant-sweep-9: 21.84%\n",
      " - upbeat-sweep-13: 20.63%\n",
      "Best runs in set /home/wandb-runs/pace-v2/2D_CNP-only-10/avno7wer:\n",
      " - noble-sweep-8: 57.58%\n",
      " - vibrant-sweep-20: 55.42%\n",
      " - flowing-sweep-23: 55.22%\n"
     ]
    }
   ],
   "source": [
    "## Find the k best performing runs for a given sweep set directory\n",
    "## use the metrics/mAP50(B) value from the metrics entry of the simple_evaluation_results.yaml file in the val dirs\n",
    "top_k = 3\n",
    "best_runs_for_set = dict()\n",
    "for sweep_set_dir in glob.glob(os.path.join(root_dir, '*-*-*/')):\n",
    "\tsweep_ids = [x for x in os.listdir(sweep_set_dir) if x!='discarded']\n",
    "\tassert len(sweep_ids)==1, f\"{len(sweep_ids)} sweeps found in {sweep_set_dir}, unsure which to use\"\n",
    "\tsweep_id = sweep_ids[0]\n",
    "\tsweep_set_dir = os.path.join(sweep_set_dir, sweep_id)\n",
    "\t\n",
    "\tmap50_scores = dict()  # run_name -> mAP50 score\n",
    "\tval_dirs = [d for d in os.listdir(sweep_set_dir) if re.match(r'^val\\d+', d)]\n",
    "\tfor val_dir in val_dirs:\n",
    "\t\tyaml_file = os.path.join(sweep_set_dir, val_dir, 'simple_evaluation_results.yaml')\n",
    "\t\tif os.path.exists(yaml_file):\n",
    "\t\t\twith open(yaml_file, 'r') as f:\n",
    "\t\t\t\tconfig = yaml.safe_load(f)\n",
    "\t\t\t\tmAP50 = config.get('metrics', {}).get('metrics/mAP50(B)', 0)\n",
    "\t\t\t\trun_name = config.get('model').split('/')[-3]\n",
    "\t\t\t\tmap50_scores[run_name] = mAP50\n",
    "\tsweep_set_id = sweep_set_dir.split('/')[-1]\n",
    "\tbest_runs_for_set[sweep_set_id] = sorted(map50_scores.items(), key=lambda x: x[1], reverse=True)[:3]\n",
    "\tprint(f\"Best runs in set {sweep_set_dir}:\")\n",
    "\tfor run, score in best_runs_for_set[sweep_set_id]\t:\n",
    "\t\tprint(f\" - {run}: {score*100:.2f}%\") # print percentage to 2 decimal place"
   ]
  },
  {
   "cell_type": "markdown",
   "id": "fce88404",
   "metadata": {},
   "source": [
    "# Re-finetune models for longer duration"
   ]
  },
  {
   "cell_type": "code",
   "execution_count": 4,
   "id": "b013d69f",
   "metadata": {},
   "outputs": [],
   "source": [
    "sweep_dir = '/home/wandb-runs/pace-v2/real-only-10/gzpeeznn' ## chose a particular sweep"
   ]
  },
  {
   "cell_type": "code",
   "execution_count": 5,
   "id": "1de88656",
   "metadata": {},
   "outputs": [],
   "source": [
    "best_runs = best_runs_for_set[sweep_dir.split('/')[-1]]"
   ]
  },
  {
   "cell_type": "code",
   "execution_count": null,
   "id": "ad7d8bbd",
   "metadata": {},
   "outputs": [
    {
     "name": "stdout",
     "output_type": "stream",
     "text": [
      "Re-finetuning resilient-sweep-11 with old mAP 23.32%\n",
      "YOLO11n summary: 181 layers, 2,624,080 parameters, 0 gradients, 6.6 GFLOPs\n",
      "(181, 2624080, 0, 6.614336)\n",
      "New https://pypi.org/project/ultralytics/8.3.176 available 😃 Update with 'pip install -U ultralytics'\n",
      "Ultralytics 8.3.167 🚀 Python-3.10.12 torch-2.7.1+cu126 CUDA:0 (NVIDIA A10, 22599MiB)\n",
      "\u001b[34m\u001b[1mengine/trainer: \u001b[0magnostic_nms=False, amp=True, augment=False, auto_augment=randaugment, batch=32, bgr=0.0, box=7.5, cache=False, cfg=None, classes=None, close_mosaic=5, cls=0.5, conf=None, copy_paste=0.0, copy_paste_mode=flip, cos_lr=False, cutmix=0.0, data=/home/data/configs/pace_v2.yaml, degrees=0.0, deterministic=True, device=None, dfl=1.5, dnn=False, dropout=0.0, dynamic=False, embed=None, epochs=2, erasing=0.4, exist_ok=False, fliplr=0.5, flipud=0.0, format=torchscript, fraction=0.001, freeze=20, half=False, hsv_h=0.015, hsv_s=0.7, hsv_v=0.4, imgsz=960, int8=False, iou=0.7, keras=False, kobj=1.0, line_width=None, lr0=0.001318285936761404, lrf=0.01, mask_ratio=4, max_det=300, mixup=0.0, mode=train, model=yolo11n.pt, momentum=0.937, mosaic=1.0, multi_scale=True, name=resilient-sweep-11_extended, nbs=64, nms=False, opset=None, optimize=False, optimizer=Adam, overlap_mask=True, patience=20, perspective=0.0, plots=True, pose=12.0, pretrained=True, profile=False, project=/home/wandb-runs/pace-v2/real-only-10/gzpeeznn, rect=False, resume=False, retina_masks=False, save=True, save_conf=False, save_crop=False, save_dir=/home/wandb-runs/pace-v2/real-only-10/gzpeeznn/resilient-sweep-11_extended, save_frames=False, save_json=False, save_period=-1, save_txt=False, scale=0.5, seed=0, shear=0.0, show=False, show_boxes=True, show_conf=True, show_labels=True, simplify=True, single_cls=False, source=None, split=val, stream_buffer=False, task=detect, time=None, tracker=botsort.yaml, translate=0.1, val=True, verbose=True, vid_stride=1, visualize=False, warmup_bias_lr=0.1, warmup_epochs=3.0, warmup_momentum=0.8, weight_decay=0.0005, workers=16, workspace=None\n",
      "Overriding model.yaml nc=80 with nc=2\n",
      "\n",
      "                   from  n    params  module                                       arguments                     \n",
      "  0                  -1  1       464  ultralytics.nn.modules.conv.Conv             [3, 16, 3, 2]                 \n",
      "  1                  -1  1      4672  ultralytics.nn.modules.conv.Conv             [16, 32, 3, 2]                \n",
      "  2                  -1  1      6640  ultralytics.nn.modules.block.C3k2            [32, 64, 1, False, 0.25]      \n",
      "  3                  -1  1     36992  ultralytics.nn.modules.conv.Conv             [64, 64, 3, 2]                \n",
      "  4                  -1  1     26080  ultralytics.nn.modules.block.C3k2            [64, 128, 1, False, 0.25]     \n",
      "  5                  -1  1    147712  ultralytics.nn.modules.conv.Conv             [128, 128, 3, 2]              \n",
      "  6                  -1  1     87040  ultralytics.nn.modules.block.C3k2            [128, 128, 1, True]           \n",
      "  7                  -1  1    295424  ultralytics.nn.modules.conv.Conv             [128, 256, 3, 2]              \n",
      "  8                  -1  1    346112  ultralytics.nn.modules.block.C3k2            [256, 256, 1, True]           \n",
      "  9                  -1  1    164608  ultralytics.nn.modules.block.SPPF            [256, 256, 5]                 \n",
      " 10                  -1  1    249728  ultralytics.nn.modules.block.C2PSA           [256, 256, 1]                 \n",
      " 11                  -1  1         0  torch.nn.modules.upsampling.Upsample         [None, 2, 'nearest']          \n",
      " 12             [-1, 6]  1         0  ultralytics.nn.modules.conv.Concat           [1]                           \n",
      " 13                  -1  1    111296  ultralytics.nn.modules.block.C3k2            [384, 128, 1, False]          \n",
      " 14                  -1  1         0  torch.nn.modules.upsampling.Upsample         [None, 2, 'nearest']          \n",
      " 15             [-1, 4]  1         0  ultralytics.nn.modules.conv.Concat           [1]                           \n",
      " 16                  -1  1     32096  ultralytics.nn.modules.block.C3k2            [256, 64, 1, False]           \n",
      " 17                  -1  1     36992  ultralytics.nn.modules.conv.Conv             [64, 64, 3, 2]                \n",
      " 18            [-1, 13]  1         0  ultralytics.nn.modules.conv.Concat           [1]                           \n",
      " 19                  -1  1     86720  ultralytics.nn.modules.block.C3k2            [192, 128, 1, False]          \n",
      " 20                  -1  1    147712  ultralytics.nn.modules.conv.Conv             [128, 128, 3, 2]              \n",
      " 21            [-1, 10]  1         0  ultralytics.nn.modules.conv.Concat           [1]                           \n",
      " 22                  -1  1    378880  ultralytics.nn.modules.block.C3k2            [384, 256, 1, True]           \n",
      " 23        [16, 19, 22]  1    431062  ultralytics.nn.modules.head.Detect           [2, [64, 128, 256]]           \n",
      "YOLO11n summary: 181 layers, 2,590,230 parameters, 2,590,214 gradients, 6.4 GFLOPs\n",
      "\n",
      "Transferred 448/499 items from pretrained weights\n"
     ]
    },
    {
     "name": "stderr",
     "output_type": "stream",
     "text": [
      "\u001b[34m\u001b[1mwandb\u001b[0m: Currently logged in as: \u001b[33mvikhyat3\u001b[0m (\u001b[33mvikhyat-3-org\u001b[0m) to \u001b[32mhttps://api.wandb.ai\u001b[0m. Use \u001b[1m`wandb login --relogin`\u001b[0m to force relogin\n"
     ]
    },
    {
     "data": {
      "text/html": [
       "Tracking run with wandb version 0.21.0"
      ],
      "text/plain": [
       "<IPython.core.display.HTML object>"
      ]
     },
     "metadata": {},
     "output_type": "display_data"
    },
    {
     "data": {
      "text/html": [
       "Run data is saved locally in <code>/home/vagarwal/RIPS25-AnalogDevices-ObjectDetection/src/wandb/run-20250808_102112-ps2dytb7</code>"
      ],
      "text/plain": [
       "<IPython.core.display.HTML object>"
      ]
     },
     "metadata": {},
     "output_type": "display_data"
    },
    {
     "data": {
      "text/html": [
       "Syncing run <strong><a href='https://wandb.ai/vikhyat-3-org/-home-wandb-runs-pace-v2-real-only-10-gzpeeznn/runs/ps2dytb7' target=\"_blank\">resilient-sweep-11_extended</a></strong> to <a href='https://wandb.ai/vikhyat-3-org/-home-wandb-runs-pace-v2-real-only-10-gzpeeznn' target=\"_blank\">Weights & Biases</a> (<a href='https://wandb.me/developer-guide' target=\"_blank\">docs</a>)<br>"
      ],
      "text/plain": [
       "<IPython.core.display.HTML object>"
      ]
     },
     "metadata": {},
     "output_type": "display_data"
    },
    {
     "data": {
      "text/html": [
       " View project at <a href='https://wandb.ai/vikhyat-3-org/-home-wandb-runs-pace-v2-real-only-10-gzpeeznn' target=\"_blank\">https://wandb.ai/vikhyat-3-org/-home-wandb-runs-pace-v2-real-only-10-gzpeeznn</a>"
      ],
      "text/plain": [
       "<IPython.core.display.HTML object>"
      ]
     },
     "metadata": {},
     "output_type": "display_data"
    },
    {
     "data": {
      "text/html": [
       " View run at <a href='https://wandb.ai/vikhyat-3-org/-home-wandb-runs-pace-v2-real-only-10-gzpeeznn/runs/ps2dytb7' target=\"_blank\">https://wandb.ai/vikhyat-3-org/-home-wandb-runs-pace-v2-real-only-10-gzpeeznn/runs/ps2dytb7</a>"
      ],
      "text/plain": [
       "<IPython.core.display.HTML object>"
      ]
     },
     "metadata": {},
     "output_type": "display_data"
    },
    {
     "name": "stdout",
     "output_type": "stream",
     "text": [
      "Freezing layer 'model.0.conv.weight'\n",
      "Freezing layer 'model.0.bn.weight'\n",
      "Freezing layer 'model.0.bn.bias'\n",
      "Freezing layer 'model.1.conv.weight'\n",
      "Freezing layer 'model.1.bn.weight'\n",
      "Freezing layer 'model.1.bn.bias'\n",
      "Freezing layer 'model.2.cv1.conv.weight'\n",
      "Freezing layer 'model.2.cv1.bn.weight'\n",
      "Freezing layer 'model.2.cv1.bn.bias'\n",
      "Freezing layer 'model.2.cv2.conv.weight'\n",
      "Freezing layer 'model.2.cv2.bn.weight'\n",
      "Freezing layer 'model.2.cv2.bn.bias'\n",
      "Freezing layer 'model.2.m.0.cv1.conv.weight'\n",
      "Freezing layer 'model.2.m.0.cv1.bn.weight'\n",
      "Freezing layer 'model.2.m.0.cv1.bn.bias'\n",
      "Freezing layer 'model.2.m.0.cv2.conv.weight'\n",
      "Freezing layer 'model.2.m.0.cv2.bn.weight'\n",
      "Freezing layer 'model.2.m.0.cv2.bn.bias'\n",
      "Freezing layer 'model.3.conv.weight'\n",
      "Freezing layer 'model.3.bn.weight'\n",
      "Freezing layer 'model.3.bn.bias'\n",
      "Freezing layer 'model.4.cv1.conv.weight'\n",
      "Freezing layer 'model.4.cv1.bn.weight'\n",
      "Freezing layer 'model.4.cv1.bn.bias'\n",
      "Freezing layer 'model.4.cv2.conv.weight'\n",
      "Freezing layer 'model.4.cv2.bn.weight'\n",
      "Freezing layer 'model.4.cv2.bn.bias'\n",
      "Freezing layer 'model.4.m.0.cv1.conv.weight'\n",
      "Freezing layer 'model.4.m.0.cv1.bn.weight'\n",
      "Freezing layer 'model.4.m.0.cv1.bn.bias'\n",
      "Freezing layer 'model.4.m.0.cv2.conv.weight'\n",
      "Freezing layer 'model.4.m.0.cv2.bn.weight'\n",
      "Freezing layer 'model.4.m.0.cv2.bn.bias'\n",
      "Freezing layer 'model.5.conv.weight'\n",
      "Freezing layer 'model.5.bn.weight'\n",
      "Freezing layer 'model.5.bn.bias'\n",
      "Freezing layer 'model.6.cv1.conv.weight'\n",
      "Freezing layer 'model.6.cv1.bn.weight'\n",
      "Freezing layer 'model.6.cv1.bn.bias'\n",
      "Freezing layer 'model.6.cv2.conv.weight'\n",
      "Freezing layer 'model.6.cv2.bn.weight'\n",
      "Freezing layer 'model.6.cv2.bn.bias'\n",
      "Freezing layer 'model.6.m.0.cv1.conv.weight'\n",
      "Freezing layer 'model.6.m.0.cv1.bn.weight'\n",
      "Freezing layer 'model.6.m.0.cv1.bn.bias'\n",
      "Freezing layer 'model.6.m.0.cv2.conv.weight'\n",
      "Freezing layer 'model.6.m.0.cv2.bn.weight'\n",
      "Freezing layer 'model.6.m.0.cv2.bn.bias'\n",
      "Freezing layer 'model.6.m.0.cv3.conv.weight'\n",
      "Freezing layer 'model.6.m.0.cv3.bn.weight'\n",
      "Freezing layer 'model.6.m.0.cv3.bn.bias'\n",
      "Freezing layer 'model.6.m.0.m.0.cv1.conv.weight'\n",
      "Freezing layer 'model.6.m.0.m.0.cv1.bn.weight'\n",
      "Freezing layer 'model.6.m.0.m.0.cv1.bn.bias'\n",
      "Freezing layer 'model.6.m.0.m.0.cv2.conv.weight'\n",
      "Freezing layer 'model.6.m.0.m.0.cv2.bn.weight'\n",
      "Freezing layer 'model.6.m.0.m.0.cv2.bn.bias'\n",
      "Freezing layer 'model.6.m.0.m.1.cv1.conv.weight'\n",
      "Freezing layer 'model.6.m.0.m.1.cv1.bn.weight'\n",
      "Freezing layer 'model.6.m.0.m.1.cv1.bn.bias'\n",
      "Freezing layer 'model.6.m.0.m.1.cv2.conv.weight'\n",
      "Freezing layer 'model.6.m.0.m.1.cv2.bn.weight'\n",
      "Freezing layer 'model.6.m.0.m.1.cv2.bn.bias'\n",
      "Freezing layer 'model.7.conv.weight'\n",
      "Freezing layer 'model.7.bn.weight'\n",
      "Freezing layer 'model.7.bn.bias'\n",
      "Freezing layer 'model.8.cv1.conv.weight'\n",
      "Freezing layer 'model.8.cv1.bn.weight'\n",
      "Freezing layer 'model.8.cv1.bn.bias'\n",
      "Freezing layer 'model.8.cv2.conv.weight'\n",
      "Freezing layer 'model.8.cv2.bn.weight'\n",
      "Freezing layer 'model.8.cv2.bn.bias'\n",
      "Freezing layer 'model.8.m.0.cv1.conv.weight'\n",
      "Freezing layer 'model.8.m.0.cv1.bn.weight'\n",
      "Freezing layer 'model.8.m.0.cv1.bn.bias'\n",
      "Freezing layer 'model.8.m.0.cv2.conv.weight'\n",
      "Freezing layer 'model.8.m.0.cv2.bn.weight'\n",
      "Freezing layer 'model.8.m.0.cv2.bn.bias'\n",
      "Freezing layer 'model.8.m.0.cv3.conv.weight'\n",
      "Freezing layer 'model.8.m.0.cv3.bn.weight'\n",
      "Freezing layer 'model.8.m.0.cv3.bn.bias'\n",
      "Freezing layer 'model.8.m.0.m.0.cv1.conv.weight'\n",
      "Freezing layer 'model.8.m.0.m.0.cv1.bn.weight'\n",
      "Freezing layer 'model.8.m.0.m.0.cv1.bn.bias'\n",
      "Freezing layer 'model.8.m.0.m.0.cv2.conv.weight'\n",
      "Freezing layer 'model.8.m.0.m.0.cv2.bn.weight'\n",
      "Freezing layer 'model.8.m.0.m.0.cv2.bn.bias'\n",
      "Freezing layer 'model.8.m.0.m.1.cv1.conv.weight'\n",
      "Freezing layer 'model.8.m.0.m.1.cv1.bn.weight'\n",
      "Freezing layer 'model.8.m.0.m.1.cv1.bn.bias'\n",
      "Freezing layer 'model.8.m.0.m.1.cv2.conv.weight'\n",
      "Freezing layer 'model.8.m.0.m.1.cv2.bn.weight'\n",
      "Freezing layer 'model.8.m.0.m.1.cv2.bn.bias'\n",
      "Freezing layer 'model.9.cv1.conv.weight'\n",
      "Freezing layer 'model.9.cv1.bn.weight'\n",
      "Freezing layer 'model.9.cv1.bn.bias'\n",
      "Freezing layer 'model.9.cv2.conv.weight'\n",
      "Freezing layer 'model.9.cv2.bn.weight'\n",
      "Freezing layer 'model.9.cv2.bn.bias'\n",
      "Freezing layer 'model.10.cv1.conv.weight'\n",
      "Freezing layer 'model.10.cv1.bn.weight'\n",
      "Freezing layer 'model.10.cv1.bn.bias'\n",
      "Freezing layer 'model.10.cv2.conv.weight'\n",
      "Freezing layer 'model.10.cv2.bn.weight'\n",
      "Freezing layer 'model.10.cv2.bn.bias'\n",
      "Freezing layer 'model.10.m.0.attn.qkv.conv.weight'\n",
      "Freezing layer 'model.10.m.0.attn.qkv.bn.weight'\n",
      "Freezing layer 'model.10.m.0.attn.qkv.bn.bias'\n",
      "Freezing layer 'model.10.m.0.attn.proj.conv.weight'\n",
      "Freezing layer 'model.10.m.0.attn.proj.bn.weight'\n",
      "Freezing layer 'model.10.m.0.attn.proj.bn.bias'\n",
      "Freezing layer 'model.10.m.0.attn.pe.conv.weight'\n",
      "Freezing layer 'model.10.m.0.attn.pe.bn.weight'\n",
      "Freezing layer 'model.10.m.0.attn.pe.bn.bias'\n",
      "Freezing layer 'model.10.m.0.ffn.0.conv.weight'\n",
      "Freezing layer 'model.10.m.0.ffn.0.bn.weight'\n",
      "Freezing layer 'model.10.m.0.ffn.0.bn.bias'\n",
      "Freezing layer 'model.10.m.0.ffn.1.conv.weight'\n",
      "Freezing layer 'model.10.m.0.ffn.1.bn.weight'\n",
      "Freezing layer 'model.10.m.0.ffn.1.bn.bias'\n",
      "Freezing layer 'model.13.cv1.conv.weight'\n",
      "Freezing layer 'model.13.cv1.bn.weight'\n",
      "Freezing layer 'model.13.cv1.bn.bias'\n",
      "Freezing layer 'model.13.cv2.conv.weight'\n",
      "Freezing layer 'model.13.cv2.bn.weight'\n",
      "Freezing layer 'model.13.cv2.bn.bias'\n",
      "Freezing layer 'model.13.m.0.cv1.conv.weight'\n",
      "Freezing layer 'model.13.m.0.cv1.bn.weight'\n",
      "Freezing layer 'model.13.m.0.cv1.bn.bias'\n",
      "Freezing layer 'model.13.m.0.cv2.conv.weight'\n",
      "Freezing layer 'model.13.m.0.cv2.bn.weight'\n",
      "Freezing layer 'model.13.m.0.cv2.bn.bias'\n",
      "Freezing layer 'model.16.cv1.conv.weight'\n",
      "Freezing layer 'model.16.cv1.bn.weight'\n",
      "Freezing layer 'model.16.cv1.bn.bias'\n",
      "Freezing layer 'model.16.cv2.conv.weight'\n",
      "Freezing layer 'model.16.cv2.bn.weight'\n",
      "Freezing layer 'model.16.cv2.bn.bias'\n",
      "Freezing layer 'model.16.m.0.cv1.conv.weight'\n",
      "Freezing layer 'model.16.m.0.cv1.bn.weight'\n",
      "Freezing layer 'model.16.m.0.cv1.bn.bias'\n",
      "Freezing layer 'model.16.m.0.cv2.conv.weight'\n",
      "Freezing layer 'model.16.m.0.cv2.bn.weight'\n",
      "Freezing layer 'model.16.m.0.cv2.bn.bias'\n",
      "Freezing layer 'model.17.conv.weight'\n",
      "Freezing layer 'model.17.bn.weight'\n",
      "Freezing layer 'model.17.bn.bias'\n",
      "Freezing layer 'model.19.cv1.conv.weight'\n",
      "Freezing layer 'model.19.cv1.bn.weight'\n",
      "Freezing layer 'model.19.cv1.bn.bias'\n",
      "Freezing layer 'model.19.cv2.conv.weight'\n",
      "Freezing layer 'model.19.cv2.bn.weight'\n",
      "Freezing layer 'model.19.cv2.bn.bias'\n",
      "Freezing layer 'model.19.m.0.cv1.conv.weight'\n",
      "Freezing layer 'model.19.m.0.cv1.bn.weight'\n",
      "Freezing layer 'model.19.m.0.cv1.bn.bias'\n",
      "Freezing layer 'model.19.m.0.cv2.conv.weight'\n",
      "Freezing layer 'model.19.m.0.cv2.bn.weight'\n",
      "Freezing layer 'model.19.m.0.cv2.bn.bias'\n",
      "Freezing layer 'model.23.dfl.conv.weight'\n",
      "\u001b[34m\u001b[1mAMP: \u001b[0mrunning Automatic Mixed Precision (AMP) checks...\n",
      "\u001b[34m\u001b[1mAMP: \u001b[0mchecks passed ✅\n",
      "\u001b[34m\u001b[1mtrain: \u001b[0mFast image access ✅ (ping: 0.0±0.0 ms, read: 4311.3±181.4 MB/s, size: 955.1 KB)\n"
     ]
    },
    {
     "name": "stderr",
     "output_type": "stream",
     "text": [
      "\u001b[34m\u001b[1mtrain: \u001b[0mScanning /home/data/pace/toycar_can_v2/train/labels.cache... 7 images, 0 backgrounds, 0 corrupt: 100%|██████████| 7/7 [00:00<?, ?it/s]\n"
     ]
    },
    {
     "name": "stdout",
     "output_type": "stream",
     "text": [
      "\u001b[34m\u001b[1mval: \u001b[0mFast image access ✅ (ping: 0.0±0.0 ms, read: 2325.4±1723.8 MB/s, size: 1068.9 KB)\n"
     ]
    },
    {
     "name": "stderr",
     "output_type": "stream",
     "text": [
      "\u001b[34m\u001b[1mval: \u001b[0mScanning /home/data/pace/toycar_can_v2/val/labels.cache... 6552 images, 8 backgrounds, 0 corrupt: 100%|██████████| 6552/6552 [00:00<?, ?it/s]\n"
     ]
    },
    {
     "name": "stdout",
     "output_type": "stream",
     "text": [
      "Plotting labels to /home/wandb-runs/pace-v2/real-only-10/gzpeeznn/resilient-sweep-11_extended/labels.jpg... \n",
      "\u001b[34m\u001b[1moptimizer:\u001b[0m Adam(lr=0.001318285936761404, momentum=0.937) with parameter groups 81 weight(decay=0.0), 88 weight(decay=0.0005), 87 bias(decay=0.0)\n",
      "Image sizes 960 train, 960 val\n",
      "Using 16 dataloader workers\n",
      "Logging results to \u001b[1m/home/wandb-runs/pace-v2/real-only-10/gzpeeznn/resilient-sweep-11_extended\u001b[0m\n",
      "Starting training for 2 epochs...\n",
      "\n",
      "      Epoch    GPU_mem   box_loss   cls_loss   dfl_loss  Instances       Size\n"
     ]
    },
    {
     "name": "stderr",
     "output_type": "stream",
     "text": [
      "        1/2      0.59G      1.024      4.143     0.8419         13        832: 100%|██████████| 1/1 [00:01<00:00,  1.76s/it]\n",
      "                 Class     Images  Instances      Box(P          R      mAP50  mAP50-95): 100%|██████████| 103/103 [01:17<00:00,  1.33it/s]\n"
     ]
    },
    {
     "name": "stdout",
     "output_type": "stream",
     "text": [
      "                   all       6552       7071   0.000766      0.205    0.00065   0.000422\n",
      "\n",
      "      Epoch    GPU_mem   box_loss   cls_loss   dfl_loss  Instances       Size\n"
     ]
    },
    {
     "name": "stderr",
     "output_type": "stream",
     "text": [
      "        2/2      2.56G     0.9483      4.624     0.9693         12       1056: 100%|██████████| 1/1 [00:00<00:00,  3.47it/s]\n",
      "                 Class     Images  Instances      Box(P          R      mAP50  mAP50-95): 100%|██████████| 103/103 [01:10<00:00,  1.45it/s]\n"
     ]
    },
    {
     "name": "stdout",
     "output_type": "stream",
     "text": [
      "                   all       6552       7071   0.000705      0.188   0.000611   0.000394\n",
      "\n",
      "2 epochs completed in 0.043 hours.\n",
      "Optimizer stripped from /home/wandb-runs/pace-v2/real-only-10/gzpeeznn/resilient-sweep-11_extended/weights/last.pt, 5.5MB\n",
      "Optimizer stripped from /home/wandb-runs/pace-v2/real-only-10/gzpeeznn/resilient-sweep-11_extended/weights/best.pt, 5.5MB\n",
      "\n",
      "Validating /home/wandb-runs/pace-v2/real-only-10/gzpeeznn/resilient-sweep-11_extended/weights/best.pt...\n",
      "Ultralytics 8.3.167 🚀 Python-3.10.12 torch-2.7.1+cu126 CUDA:0 (NVIDIA A10, 22599MiB)\n",
      "YOLO11n summary (fused): 100 layers, 2,582,542 parameters, 0 gradients, 6.3 GFLOPs\n"
     ]
    },
    {
     "name": "stderr",
     "output_type": "stream",
     "text": [
      "                 Class     Images  Instances      Box(P          R      mAP50  mAP50-95): 100%|██████████| 103/103 [01:30<00:00,  1.13it/s]\n"
     ]
    },
    {
     "name": "stdout",
     "output_type": "stream",
     "text": [
      "                   all       6552       7071   0.000772      0.207   0.000621   0.000404\n",
      "               toy_car       3522       4049    0.00105      0.248   0.000951   0.000619\n",
      "                   can       3022       3022   0.000499      0.166   0.000292   0.000189\n",
      "Speed: 0.2ms preprocess, 2.1ms inference, 0.0ms loss, 3.9ms postprocess per image\n",
      "Results saved to \u001b[1m/home/wandb-runs/pace-v2/real-only-10/gzpeeznn/resilient-sweep-11_extended\u001b[0m\n"
     ]
    },
    {
     "data": {
      "text/html": [],
      "text/plain": [
       "<IPython.core.display.HTML object>"
      ]
     },
     "metadata": {},
     "output_type": "display_data"
    },
    {
     "data": {
      "text/html": [
       "<br>    <style><br>        .wandb-row {<br>            display: flex;<br>            flex-direction: row;<br>            flex-wrap: wrap;<br>            justify-content: flex-start;<br>            width: 100%;<br>        }<br>        .wandb-col {<br>            display: flex;<br>            flex-direction: column;<br>            flex-basis: 100%;<br>            flex: 1;<br>            padding: 10px;<br>        }<br>    </style><br><div class=\"wandb-row\"><div class=\"wandb-col\"><h3>Run history:</h3><br/><table class=\"wandb\"><tr><td>lr/pg0</td><td>█▁</td></tr><tr><td>lr/pg1</td><td>▁█</td></tr><tr><td>lr/pg2</td><td>▁█</td></tr><tr><td>metrics/mAP50(B)</td><td>█▁</td></tr><tr><td>metrics/mAP50-95(B)</td><td>█▁</td></tr><tr><td>metrics/precision(B)</td><td>▁█</td></tr><tr><td>metrics/recall(B)</td><td>▁█</td></tr><tr><td>model/GFLOPs</td><td>▁</td></tr><tr><td>model/parameters</td><td>▁</td></tr><tr><td>model/speed_PyTorch(ms)</td><td>▁</td></tr><tr><td>train/box_loss</td><td>█▁</td></tr><tr><td>train/cls_loss</td><td>▁█</td></tr><tr><td>train/dfl_loss</td><td>▁█</td></tr><tr><td>val/box_loss</td><td>█▁</td></tr><tr><td>val/cls_loss</td><td>█▁</td></tr><tr><td>val/dfl_loss</td><td>█▁</td></tr></table><br/></div><div class=\"wandb-col\"><h3>Run summary:</h3><br/><table class=\"wandb\"><tr><td>lr/pg0</td><td>0.09901</td></tr><tr><td>lr/pg1</td><td>1e-05</td></tr><tr><td>lr/pg2</td><td>1e-05</td></tr><tr><td>metrics/mAP50(B)</td><td>0.00062</td></tr><tr><td>metrics/mAP50-95(B)</td><td>0.0004</td></tr><tr><td>metrics/precision(B)</td><td>0.00077</td></tr><tr><td>metrics/recall(B)</td><td>0.20687</td></tr><tr><td>model/GFLOPs</td><td>6.442</td></tr><tr><td>model/parameters</td><td>2590230</td></tr><tr><td>model/speed_PyTorch(ms)</td><td>1.961</td></tr><tr><td>train/box_loss</td><td>0.94834</td></tr><tr><td>train/cls_loss</td><td>4.62409</td></tr><tr><td>train/dfl_loss</td><td>0.96933</td></tr><tr><td>val/box_loss</td><td>0.87399</td></tr><tr><td>val/cls_loss</td><td>3.84728</td></tr><tr><td>val/dfl_loss</td><td>0.98742</td></tr></table><br/></div></div>"
      ],
      "text/plain": [
       "<IPython.core.display.HTML object>"
      ]
     },
     "metadata": {},
     "output_type": "display_data"
    },
    {
     "data": {
      "text/html": [
       " View run <strong style=\"color:#cdcd00\">resilient-sweep-11_extended</strong> at: <a href='https://wandb.ai/vikhyat-3-org/-home-wandb-runs-pace-v2-real-only-10-gzpeeznn/runs/ps2dytb7' target=\"_blank\">https://wandb.ai/vikhyat-3-org/-home-wandb-runs-pace-v2-real-only-10-gzpeeznn/runs/ps2dytb7</a><br> View project at: <a href='https://wandb.ai/vikhyat-3-org/-home-wandb-runs-pace-v2-real-only-10-gzpeeznn' target=\"_blank\">https://wandb.ai/vikhyat-3-org/-home-wandb-runs-pace-v2-real-only-10-gzpeeznn</a><br>Synced 5 W&B file(s), 20 media file(s), 10 artifact file(s) and 0 other file(s)"
      ],
      "text/plain": [
       "<IPython.core.display.HTML object>"
      ]
     },
     "metadata": {},
     "output_type": "display_data"
    },
    {
     "data": {
      "text/html": [
       "Find logs at: <code>./wandb/run-20250808_102112-ps2dytb7/logs</code>"
      ],
      "text/plain": [
       "<IPython.core.display.HTML object>"
      ]
     },
     "metadata": {},
     "output_type": "display_data"
    },
    {
     "name": "stdout",
     "output_type": "stream",
     "text": [
      "Fetching data path from the model YAML configuration in /home/wandb-runs/pace-v2/real-only-10/gzpeeznn/resilient-sweep-11_extended...\n",
      "Evaluating on dataset: /home/data/configs/pace_v2.yaml with split: test\n",
      "Ultralytics 8.3.167 🚀 Python-3.10.12 torch-2.7.1+cu126 CUDA:0 (NVIDIA A10, 22599MiB)\n",
      "YOLO11n summary (fused): 100 layers, 2,582,542 parameters, 0 gradients, 6.3 GFLOPs\n",
      "\u001b[34m\u001b[1mval: \u001b[0mFast image access ✅ (ping: 0.0±0.0 ms, read: 4845.8±806.7 MB/s, size: 1077.3 KB)\n"
     ]
    },
    {
     "name": "stderr",
     "output_type": "stream",
     "text": [
      "\u001b[34m\u001b[1mval: \u001b[0mScanning /home/data/pace/toycar_can_v2/test/labels.cache... 4341 images, 100 backgrounds, 0 corrupt: 100%|██████████| 4341/4341 [00:00<?, ?it/s]\n",
      "                 Class     Images  Instances      Box(P          R      mAP50  mAP50-95): 100%|██████████| 136/136 [00:29<00:00,  4.61it/s]\n"
     ]
    },
    {
     "name": "stdout",
     "output_type": "stream",
     "text": [
      "                   all       4341       5349    0.00297      0.771    0.00368    0.00249\n",
      "               toy_car       2259       3367    0.00296      0.587    0.00276    0.00187\n",
      "                   can       1982       1982    0.00298      0.954    0.00459     0.0031\n",
      "Speed: 0.1ms preprocess, 1.2ms inference, 0.0ms loss, 1.9ms postprocess per image\n",
      "Results saved to \u001b[1m/home/wandb-runs/pace-v2/real-only-10/gzpeeznn/val51\u001b[0m\n",
      "Evaluation Results:\n",
      "Class Names: {0: 'toy_car', 1: 'can'}\n",
      "mAP: [  0.0018736   0.0031011]\n",
      "Number of Detections per Class: [3367 1982]\n",
      "Number of Detections per Image: [2259 1982]\n",
      "Results Dictionary: {'metrics/precision(B)': np.float64(0.0029703924048985223), 'metrics/recall(B)': np.float64(0.7705244138140203), 'metrics/mAP50(B)': np.float64(0.003676750025114848), 'metrics/mAP50-95(B)': np.float64(0.002487372109730922), 'fitness': np.float64(0.002606309901269315)}\n",
      "Speed: {'preprocess': 0.10786274762554285, 'inference': 1.1652014710642424, 'loss': 0.00023716893128619934, 'postprocess': 1.895852783101443}\n",
      "Basic metrics:\n",
      "{'metrics/precision(B)': 0.0029703924048985223, 'metrics/recall(B)': 0.7705244138140203, 'metrics/mAP50(B)': 0.003676750025114848, 'metrics/mAP50-95(B)': 0.002487372109730922, 'fitness': 0.002606309901269315}\n"
     ]
    }
   ],
   "source": [
    "for run, old_mAP in best_runs:\n",
    "\tprint(f\"Re-finetuning {run} with old mAP {old_mAP*100:.2f}%\")\n",
    "\t## get args.yaml file \n",
    "\targs = yaml.safe_load(open(os.path.join(sweep_dir, run, 'args.yaml')))\n",
    "\targs['epochs'] = 100\n",
    "\targs['patience'] = 20\n",
    "\targs['name'] = args['name'] + '_extended'\n",
    "\targs['save_dir'] = os.path.join(sweep_dir, args['name'])\n",
    "\targs['data'] = args['data'].replace('pace-v2-val.yaml', 'pace-v2.yaml') # since we renamed the data files\n",
    "\targs['project'] = sweep_dir\n",
    "\t\n",
    "\t### TEMP\n",
    "\targs['epochs'] = 2\n",
    "\targs['fraction'] = 0.001\n",
    "\n",
    "\tyolo_finetuner = YOLOFinetuner(**args)\n",
    "\tresults_train = yolo_finetuner.train_model()\n",
    "\t\n",
    "\tevaluator_args = {\n",
    "\t\t'run': str(results_train.save_dir),\n",
    "\t\t'batch': config.get('batch', 32),\n",
    "\t\t'imgsz': config.get('eval_imgsz', 640),\n",
    "\t\t'project': args['project'],\n",
    "\t\t'split': 'test',  # Evaluate on the final test set\n",
    "\t\t'name': 'val_'+args['name'],\n",
    "\t}\n",
    "\tevaluator = YOLOEvaluator(**evaluator_args)\n",
    "\tval_results = evaluator.evaluate_model()\n",
    "\n",
    "\tprint('Basic metrics:')\n",
    "\tprint(val_results.get('metrics'))\n",
    "\n",
    "\tbreak"
   ]
  },
  {
   "cell_type": "code",
   "execution_count": null,
   "id": "23c8b769",
   "metadata": {},
   "outputs": [],
   "source": []
  },
  {
   "cell_type": "markdown",
   "id": "8f2ef76d",
   "metadata": {},
   "source": [
    "# Test the extended models"
   ]
  },
  {
   "cell_type": "code",
   "execution_count": null,
   "id": "926cfdd4",
   "metadata": {},
   "outputs": [],
   "source": []
  }
 ],
 "metadata": {
  "kernelspec": {
   "display_name": "env",
   "language": "python",
   "name": "python3"
  },
  "language_info": {
   "codemirror_mode": {
    "name": "ipython",
    "version": 3
   },
   "file_extension": ".py",
   "mimetype": "text/x-python",
   "name": "python",
   "nbconvert_exporter": "python",
   "pygments_lexer": "ipython3",
   "version": "3.10.12"
  }
 },
 "nbformat": 4,
 "nbformat_minor": 5
}
