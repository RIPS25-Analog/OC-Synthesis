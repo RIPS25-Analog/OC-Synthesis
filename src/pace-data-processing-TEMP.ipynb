{
 "cells": [
  {
   "cell_type": "code",
   "execution_count": 4,
   "id": "8688a220",
   "metadata": {},
   "outputs": [],
   "source": [
    "import os\n",
    "import json\n",
    "import glob\n",
    "import cv2\n",
    "\n",
    "from collections import defaultdict\n",
    "import numpy as np\n",
    "import matplotlib.pyplot as plt\n",
    "from ultralytics import SAM\n",
    "from huggingface_hub import snapshot_download\n",
    "ROOT_DIR = \"/home/data/pace\""
   ]
  },
  {
   "cell_type": "code",
   "execution_count": null,
   "id": "d0bbc3d9",
   "metadata": {},
   "outputs": [],
   "source": [
    "# repo_id = \"qq456cvb/PACE\"  # Replace with the actual dataset ID\n",
    "# local_dir = \"/home/data/pace\"  # The local path where you want to save the folder\n",
    "# allow_patterns = [\"val_pbr_cat.tar.gz\"] # To download a specific folder within the dataset\n",
    "# snapshot_download(repo_id=repo_id, local_dir=local_dir, allow_patterns=allow_patterns, repo_type=\"dataset\")\n",
    "\n",
    "# len(glob.glob(f'{ROOT_DIR}/test/*')), len(glob.glob(f'{ROOT_DIR}/val_inst/*')), len(glob.glob(f'{ROOT_DIR}/val_pbr_cat/*'))"
   ]
  },
  {
   "cell_type": "code",
   "execution_count": 5,
   "id": "104776f4",
   "metadata": {},
   "outputs": [
    {
     "name": "stdout",
     "output_type": "stream",
     "text": [
      "Category bottle, has 49 instances: [2, 3, 5, 6, 16, 20, 21, 24, 4, 705, 14, 18, 694, 15, 11, 700, 1, 7, 8, 9, 10, 12, 13, 17, 19, 22, 23, 693, 695, 696, 697, 698, 699, 701, 702, 703, 704, 706, 707, 708, 709, 710, 711, 712, 713, 714, 715, 716, 717]\n",
      "Category bowl, has 51 instances: [40, 36, 38, 735, 739, 43, 722, 734, 30, 42, 728, 720, 25, 26, 27, 28, 29, 31, 32, 33, 34, 35, 37, 39, 41, 44, 45, 46, 718, 719, 721, 723, 724, 725, 726, 727, 729, 730, 731, 732, 733, 736, 737, 738, 740, 741, 742, 743, 744, 745, 746]\n",
      "Category box-base_link, has 30 instances: [579, 558, 593, 595, 603, 554, 572, 591, 608, 548, 577, 556, 568, 601, 597, 581, 589, 583, 546, 587, 570, 562, 552, 599, 560, 606, 566, 550, 564, 574]\n",
      "Category box-link1, has 30 instances: [578, 557, 592, 594, 602, 553, 571, 590, 607, 547, 575, 555, 567, 600, 596, 580, 588, 582, 545, 586, 569, 561, 551, 598, 559, 605, 565, 549, 563, 573]\n",
      "Category brush, has 19 instances: [49, 50, 51, 55, 56, 48, 53, 747, 748, 749, 750, 47, 751, 752, 753, 52, 54, 754, 755]\n",
      "Category can, has 47 instances: [66, 70, 71, 73, 74, 57, 58, 61, 62, 63, 59, 758, 764, 72, 761, 766, 778, 768, 769, 770, 771, 772, 773, 774, 775, 776, 777, 779, 780, 781, 782, 783, 784, 60, 64, 65, 67, 68, 69, 756, 757, 759, 760, 762, 763, 765, 767]\n",
      "Category chip_can, has 15 instances: [75, 76, 77, 78, 79, 81, 82, 789, 80, 785, 786, 787, 788, 790, 791]\n",
      "Category clip-link1, has 12 instances: [610, 628, 618, 632, 612, 622, 630, 626, 616, 620, 624, 614]\n",
      "Category clip-link2, has 12 instances: [609, 627, 617, 631, 611, 621, 629, 625, 615, 619, 623, 613]\n",
      "Category clock, has 35 instances: [93, 85, 87, 88, 797, 90, 808, 792, 89, 793, 794, 795, 796, 798, 799, 800, 801, 802, 803, 804, 805, 806, 807, 809, 810, 811, 812, 813, 814, 83, 84, 86, 91, 92, 94]\n",
      "Category container, has 25 instances: [96, 97, 95, 823, 829, 825, 815, 832, 833, 98, 99, 100, 816, 817, 818, 819, 820, 821, 822, 824, 826, 827, 828, 830, 831]\n",
      "Category cutter-base_link, has 9 instances: [650, 646, 636, 638, 642, 634, 644, 648, 640]\n",
      "Category cutter-link1, has 9 instances: [649, 635, 637, 645, 641, 633, 643, 647, 639]\n",
      "Category drinkbox, has 8 instances: [101, 838, 834, 835, 836, 837, 102, 839]\n",
      "Category dustpan, has 6 instances: [104, 103, 841, 840, 842, 843]\n",
      "Category hammer, has 33 instances: [105, 109, 108, 857, 861, 853, 850, 856, 844, 845, 846, 847, 848, 849, 851, 852, 854, 855, 858, 859, 860, 862, 863, 864, 865, 866, 867, 868, 869, 870, 871, 106, 107]\n",
      "Category handbag, has 35 instances: [114, 115, 117, 119, 122, 127, 880, 118, 873, 884, 872, 112, 116, 125, 887, 113, 126, 874, 875, 876, 877, 110, 111, 878, 879, 881, 882, 883, 885, 120, 121, 886, 123, 124, 888]\n",
      "Category helmet, has 25 instances: [147, 148, 151, 152, 153, 918, 911, 144, 914, 908, 909, 910, 912, 913, 143, 145, 146, 149, 150, 915, 921, 916, 917, 919, 920]\n",
      "Category marker, has 23 instances: [163, 164, 165, 167, 171, 172, 173, 951, 955, 960, 961, 962, 166, 168, 169, 170, 952, 953, 954, 956, 957, 958, 959]\n",
      "Category mug, has 42 instances: [174, 175, 178, 180, 183, 982, 979, 977, 989, 991, 181, 965, 176, 177, 179, 182, 184, 185, 186, 963, 964, 966, 967, 968, 969, 970, 971, 972, 973, 974, 975, 976, 978, 980, 981, 983, 984, 985, 986, 987, 988, 990]\n",
      "Category notebook, has 18 instances: [187, 188, 189, 191, 1001, 1000, 192, 193, 994, 993, 992, 995, 996, 997, 998, 999, 1002, 190]\n",
      "Category pan, has 11 instances: [194, 1008, 1012, 1003, 1004, 1005, 1006, 1007, 1009, 1010, 1011]\n",
      "Category ping_pong_ball, has 4 instances: [202, 203, 1045, 1046]\n",
      "Category plate, has 24 instances: [206, 207, 208, 209, 211, 212, 213, 1057, 1058, 210, 204, 205, 1047, 1048, 1049, 1050, 1051, 1052, 1053, 1054, 1055, 1056, 1059, 1060]\n",
      "Category ramen_box, has 23 instances: [224, 225, 227, 228, 229, 230, 231, 232, 234, 237, 238, 239, 241, 1076, 235, 226, 233, 236, 240, 1073, 1074, 1075, 1077]\n",
      "Category ramen_package, has 8 instances: [243, 244, 242, 245, 1078, 1079, 246, 1080]\n",
      "Category razor, has 13 instances: [249, 254, 255, 1083, 252, 250, 247, 248, 1081, 1082, 251, 1084, 253]\n",
      "Category remote, has 27 instances: [257, 259, 260, 261, 265, 1090, 1098, 262, 258, 256, 1088, 1089, 1091, 263, 264, 1092, 1093, 1094, 1095, 1096, 1097, 1099, 1100, 1101, 1085, 1086, 1087]\n",
      "Category sausage, has 5 instances: [266, 267, 1103, 268, 1102]\n",
      "Category scissor-link1, has 21 instances: [676, 678, 682, 684, 686, 668, 666, 654, 652, 692, 664, 670, 680, 688, 662, 690, 660, 672, 656, 658, 674]\n",
      "Category scissor-link2, has 21 instances: [675, 677, 681, 683, 685, 667, 665, 653, 651, 691, 663, 669, 679, 687, 661, 689, 659, 671, 655, 657, 673]\n",
      "Category slipper, has 42 instances: [273, 278, 281, 282, 286, 283, 277, 269, 297, 275, 295, 290, 270, 271, 272, 274, 276, 279, 280, 284, 285, 287, 288, 289, 291, 292, 293, 294, 296, 298, 299, 300, 301, 302, 303, 304, 1104, 1105, 1106, 1107, 1108, 1109]\n",
      "Category snack_box, has 53 instances: [0, 320, 324, 332, 336, 305, 306, 307, 308, 338, 339, 340, 342, 315, 316, 317, 318, 319, 311, 309, 347, 343, 328, 337, 326, 310, 312, 313, 314, 321, 322, 323, 325, 327, 329, 330, 331, 333, 334, 335, 341, 1110, 344, 345, 346, 348, 349, 1111, 1112, 1113, 1114, 1115, 1116]\n",
      "Category snack_package, has 19 instances: [354, 357, 358, 359, 360, 352, 350, 353, 1120, 355, 356, 1121, 1122, 1123, 1124, 1119, 1118, 1117, 351]\n",
      "Category sneaker, has 27 instances: [361, 362, 1143, 1129, 1127, 367, 1131, 1125, 1126, 1128, 1130, 363, 364, 365, 366, 368, 1132, 1133, 1134, 1135, 1136, 1137, 1138, 1139, 1140, 1141, 1142]\n",
      "Category spanner, has 8 instances: [369, 1150, 1144, 1145, 1146, 1147, 1148, 1149]\n",
      "Category squeegee, has 4 instances: [392, 391, 1166, 1165]\n",
      "Category steel_tape, has 14 instances: [395, 396, 397, 399, 1169, 1170, 393, 394, 398, 1167, 1168, 1171, 1172, 1173]\n",
      "Category tape, has 7 instances: [403, 401, 400, 402, 1174, 1175, 1176]\n",
      "Category tennis_ball, has 5 instances: [404, 1179, 1177, 1178, 1180]\n",
      "Category thermos, has 21 instances: [406, 408, 410, 414, 415, 1184, 1185, 1189, 405, 407, 409, 411, 412, 1181, 413, 1182, 1186, 1187, 1188, 1190, 1183]\n",
      "Category tissue, has 9 instances: [416, 417, 419, 418, 420, 421, 422, 1191, 1192]\n",
      "Category toothbrush, has 44 instances: [448, 449, 451, 452, 453, 426, 428, 429, 430, 433, 434, 435, 436, 437, 447, 443, 1200, 450, 424, 1194, 1195, 1205, 440, 423, 425, 1193, 427, 1196, 1197, 1198, 1199, 1201, 1202, 1203, 1204, 431, 432, 439, 438, 441, 442, 444, 445, 446]\n",
      "Category toy_car, has 31 instances: [455, 456, 457, 458, 459, 460, 461, 467, 468, 469, 470, 1207, 1213, 1216, 454, 1217, 1218, 462, 463, 464, 465, 466, 471, 1206, 1208, 1209, 1210, 1211, 1212, 1214, 1215]\n",
      "Category toys, has 73 instances: [482, 517, 519, 523, 502, 472, 474, 475, 476, 477, 478, 489, 500, 497, 494, 514, 509, 504, 1230, 515, 495, 510, 506, 512, 513, 516, 518, 520, 521, 522, 1219, 1220, 1221, 1222, 1223, 1224, 1225, 1226, 1227, 1228, 1229, 1231, 1232, 1233, 1234, 1235, 1236, 1237, 1238, 1239, 473, 479, 480, 481, 483, 484, 485, 486, 487, 488, 490, 491, 492, 493, 496, 498, 499, 501, 503, 505, 507, 508, 511]\n",
      "Category trash_bin, has 23 instances: [526, 527, 528, 530, 531, 529, 1248, 1251, 524, 525, 532, 1240, 1241, 1242, 1243, 1244, 1245, 1246, 1247, 1249, 1250, 1252, 1253]\n",
      "Category wallet, has 19 instances: [544, 533, 534, 535, 538, 539, 540, 541, 542, 543, 537, 1254, 1255, 1256, 1257, 1258, 1259, 1260, 536]\n"
     ]
    }
   ],
   "source": [
    "### data[video_id][frame_id]: set of all instances (IDs) in that frame (of that video)\n",
    " \n",
    "data = dict()\n",
    "\n",
    "all_categories = list(set(['_'.join(x.split('/')[-1].split('_')[:-1]) for x in glob.glob(f'{ROOT_DIR}/model_splits/category/*_train.txt')+\\\n",
    "\t\t\t\t\t\t   \t\t\t\t\t\t\t\t\t\t\t\t\tglob.glob(f'{ROOT_DIR}/model_splits/category/*_val.txt')+\\\n",
    "\t\t\t\t\t\t   \t\t\t\t\t\t\t\t\t\t\t\t\tglob.glob(f'{ROOT_DIR}/model_splits/category/*_test.txt')]))\n",
    "all_categories.sort()\n",
    "\n",
    "data = dict()\n",
    "video_splits = {'test': set(), 'val_inst': set(), 'val_pbr_cat': set()}\n",
    "for video_path in glob.glob(f'{ROOT_DIR}/test/*')+glob.glob(f'{ROOT_DIR}/val_inst/*')+glob.glob(f'{ROOT_DIR}/val_pbr_cat/*'):\n",
    "\t# print(video_path)\n",
    "\tframe_ids = [int(f.split('/')[-1].split('.')[0]) for f in glob.glob(f'{video_path}/rgb/*')]\n",
    "\tif 'test' in video_path:\n",
    "\t\tsplit = 'test'\n",
    "\telif 'val_inst' in video_path:\n",
    "\t\tsplit = 'val_inst'\n",
    "\telif 'val_pbr_cat' in video_path:\n",
    "\t\tsplit = 'val_pbr_cat'\n",
    "\telse:\n",
    "\t\traise ValueError(f'Unknown split for video {video_id} at path {video_path}')\n",
    "\tvideo_id = split+'_'+video_path.split('/')[-1]\n",
    "\n",
    "\tvideo_splits[split].add(video_id)\n",
    "\n",
    "\tdata[video_id] = {frame_id: set() for frame_id in frame_ids}\n",
    "\t\t\n",
    "\tjson_file = f'{video_path}/scene_gt_coco_det_modal_inst.json'\n",
    "\twith open(json_file, 'r') as f:\n",
    "\t\tvideo_json = json.load(f)\n",
    "\n",
    "\tfor anno in video_json['annotations']:\n",
    "\t\tobject_instance_id = anno['category_id']\n",
    "\t\tframe_id = anno['image_id']\n",
    "\t\tdata[video_id][frame_id].add(object_instance_id)\n",
    "\n",
    "instances_of_category = dict()\n",
    "for category in all_categories:\n",
    "\ttest_instance_ids = [int(x.split('_')[-1]) for x in open(f'{ROOT_DIR}/model_splits/category/{category}_test.txt', 'r').read().splitlines()]\n",
    "\tval_instance_ids = [int(x.split('_')[-1]) for x in open(f'{ROOT_DIR}/model_splits/category/{category}_val.txt', 'r').read().splitlines()]\n",
    "\ttrain_instance_ids = [int(x.split('_')[-1]) for x in open(f'{ROOT_DIR}/model_splits/category/{category}_train.txt', 'r').read().splitlines()]\n",
    "\tinstances_of_category[category] = test_instance_ids + val_instance_ids + train_instance_ids\n",
    "\tprint(f'Category {category}, has {len(instances_of_category[category])} instances: {instances_of_category[category]}')\n",
    "\n",
    "all_instances = []\n",
    "for cat in instances_of_category:\n",
    "\tall_instances.extend(instances_of_category[cat])"
   ]
  },
  {
   "cell_type": "code",
   "execution_count": 6,
   "id": "ef456756",
   "metadata": {},
   "outputs": [],
   "source": [
    "def isInstanceInVideo(instance_id, video_id):\n",
    "\t\"\"\"Check if a given instance ID is present in any frame of the specified video.\"\"\"\n",
    "\treturn any(instance_id in frame_instances for frame_instances in data[video_id].values())\n",
    "\n",
    "def set_union(sets):\n",
    "    return set().union(*sets)\n",
    "\n",
    "def sets_are_disjoint(sets):\n",
    "\t\"\"\"Check if all sets in the list are disjoint.\"\"\"\n",
    "\tcombined = set()\n",
    "\tfor s in sets:\n",
    "\t\tif not combined.isdisjoint(s):\n",
    "\t\t\treturn False\n",
    "\t\tcombined.update(s)\n",
    "\treturn True"
   ]
  },
  {
   "cell_type": "code",
   "execution_count": 7,
   "id": "415db83c",
   "metadata": {},
   "outputs": [],
   "source": [
    "## create a dictionary where the key is an instance ID, and the value is a list of video IDs where it appears\n",
    "videos_containing_instance = defaultdict(set)\n",
    "for video_id in data.keys():\n",
    "\tfor instance in all_instances:\n",
    "\t\tif isInstanceInVideo(instance, video_id):\n",
    "\t\t\tvideos_containing_instance[instance].add(video_id)"
   ]
  },
  {
   "cell_type": "code",
   "execution_count": 8,
   "id": "cdaa190e",
   "metadata": {},
   "outputs": [
    {
     "data": {
      "text/plain": [
       "{'val_pbr_cat_000000'}"
      ]
     },
     "execution_count": 8,
     "metadata": {},
     "output_type": "execute_result"
    }
   ],
   "source": [
    "videos_containing_instance[236]"
   ]
  },
  {
   "cell_type": "code",
   "execution_count": 9,
   "id": "6139453d",
   "metadata": {},
   "outputs": [
    {
     "name": "stdout",
     "output_type": "stream",
     "text": [
      "TRAIN INSTANCE 236 FOUND IN VAL_PBR_CAT: ['val_pbr_cat_000000']; ALSO IN {'val_pbr_cat_000000'}\n",
      "TRAIN INSTANCE 274 FOUND IN VAL_PBR_CAT: ['val_pbr_cat_000005']; ALSO IN {'val_pbr_cat_000005'}\n",
      "TRAIN INSTANCE 296 FOUND IN VAL_PBR_CAT: ['val_pbr_cat_000000']; ALSO IN {'val_pbr_cat_000000'}\n",
      "TRAIN INSTANCE 345 FOUND IN VAL_PBR_CAT: ['val_pbr_cat_000005']; ALSO IN {'val_pbr_cat_000005'}\n",
      "TRAIN INSTANCE 146 FOUND IN VAL_PBR_CAT: ['val_pbr_cat_000000']; ALSO IN {'val_pbr_cat_000000'}\n",
      "TRAIN INSTANCE 1011 FOUND IN VAL_PBR_CAT: ['val_pbr_cat_000005']; ALSO IN {'val_pbr_cat_000005'}\n",
      "TRAIN INSTANCE 1051 FOUND IN VAL_PBR_CAT: ['val_pbr_cat_000005']; ALSO IN {'val_pbr_cat_000005'}\n",
      "TRAIN INSTANCE 846 FOUND IN VAL_PBR_CAT: ['val_pbr_cat_000005']; ALSO IN {'val_pbr_cat_000005'}\n",
      "TRAIN INSTANCE 552 FOUND IN VAL_PBR_CAT: ['val_pbr_cat_000000']; ALSO IN {'val_pbr_cat_000000'}\n",
      "TRAIN INSTANCE 599 FOUND IN VAL_PBR_CAT: ['val_pbr_cat_000000']; ALSO IN {'val_pbr_cat_000000'}\n",
      "TRAIN INSTANCE 888 FOUND IN VAL_PBR_CAT: ['val_pbr_cat_000000']; ALSO IN {'val_pbr_cat_000000'}\n",
      "TRAIN INSTANCE 711 FOUND IN VAL_PBR_CAT: ['val_pbr_cat_000000', 'val_pbr_cat_000005']; ALSO IN {'val_pbr_cat_000000', 'val_pbr_cat_000005'}\n",
      "TRAIN INSTANCE 1237 FOUND IN VAL_PBR_CAT: ['val_pbr_cat_000005']; ALSO IN {'val_pbr_cat_000005'}\n",
      "TRAIN INSTANCE 484 FOUND IN VAL_PBR_CAT: ['val_pbr_cat_000000']; ALSO IN {'val_pbr_cat_000000'}\n",
      "TRAIN INSTANCE 247 FOUND IN VAL_PBR_CAT: ['val_pbr_cat_000000']; ALSO IN {'val_pbr_cat_000000'}\n",
      "TRAIN INSTANCE 551 FOUND IN VAL_PBR_CAT: ['val_pbr_cat_000000']; ALSO IN {'val_pbr_cat_000000'}\n",
      "TRAIN INSTANCE 598 FOUND IN VAL_PBR_CAT: ['val_pbr_cat_000000']; ALSO IN {'val_pbr_cat_000000'}\n",
      "TRAIN INSTANCE 639 FOUND IN VAL_PBR_CAT: ['val_pbr_cat_000005']; ALSO IN {'val_pbr_cat_000005'}\n",
      "TRAIN INSTANCE 640 FOUND IN VAL_PBR_CAT: ['val_pbr_cat_000005']; ALSO IN {'val_pbr_cat_000005'}\n",
      "TRAIN INSTANCE 1218 FOUND IN VAL_PBR_CAT: ['val_pbr_cat_000000', 'val_pbr_cat_000005']; ALSO IN {'val_pbr_cat_000000', 'val_pbr_cat_000005'}\n",
      "TRAIN INSTANCE 1134 FOUND IN VAL_PBR_CAT: ['val_pbr_cat_000000']; ALSO IN {'val_pbr_cat_000000'}\n",
      "TRAIN INSTANCE 1141 FOUND IN VAL_PBR_CAT: ['val_pbr_cat_000000']; ALSO IN {'val_pbr_cat_000000'}\n",
      "TRAIN INSTANCE 1172 FOUND IN VAL_PBR_CAT: ['val_pbr_cat_000005']; ALSO IN {'val_pbr_cat_000005'}\n",
      "TRAIN INSTANCE 31 FOUND IN VAL_PBR_CAT: ['val_pbr_cat_000000']; ALSO IN {'val_pbr_cat_000000'}\n",
      "TRAIN INSTANCE 32 FOUND IN VAL_PBR_CAT: ['val_pbr_cat_000005']; ALSO IN {'val_pbr_cat_000005'}\n",
      "TRAIN INSTANCE 44 FOUND IN VAL_PBR_CAT: ['val_pbr_cat_000000']; ALSO IN {'val_pbr_cat_000000'}\n",
      "TRAIN INSTANCE 1165 FOUND IN VAL_PBR_CAT: ['val_pbr_cat_000000']; ALSO IN {'val_pbr_cat_000000'}\n",
      "TRAIN INSTANCE 623 FOUND IN VAL_PBR_CAT: ['val_pbr_cat_000005']; ALSO IN {'val_pbr_cat_000005'}\n",
      "TRAIN INSTANCE 351 FOUND IN VAL_PBR_CAT: ['val_pbr_cat_000000']; ALSO IN {'val_pbr_cat_000000'}\n",
      "TRAIN INSTANCE 624 FOUND IN VAL_PBR_CAT: ['val_pbr_cat_000005']; ALSO IN {'val_pbr_cat_000005'}\n",
      "TRAIN INSTANCE 812 FOUND IN VAL_PBR_CAT: ['val_pbr_cat_000005']; ALSO IN {'val_pbr_cat_000005'}\n",
      "TRAIN INSTANCE 441 FOUND IN VAL_PBR_CAT: ['val_pbr_cat_000000', 'val_pbr_cat_000005']; ALSO IN {'val_pbr_cat_000000', 'val_pbr_cat_000005'}\n",
      "TRAIN INSTANCE 264 FOUND IN VAL_PBR_CAT: ['val_pbr_cat_000005']; ALSO IN {'val_inst_000110', 'val_pbr_cat_000005', 'val_inst_000109', 'val_inst_000108'}\n",
      "TRAIN INSTANCE 1092 FOUND IN VAL_PBR_CAT: ['val_pbr_cat_000000']; ALSO IN {'val_pbr_cat_000000'}\n"
     ]
    }
   ],
   "source": [
    "########## CHECK IF THEY HAVE ANY INSTANCES APPEARING IN BOTH TRAIN AND TEST\n",
    "all_train_instances = [int(x.split('_')[-1]) for x in open(f'/home/data/pace/model_splits/category/train.txt', 'r').read().splitlines()]\n",
    "\n",
    "for instance_id in all_train_instances:  # Check the first frame of the video\n",
    "\ttest_videos_containing_this = [video_id for video_id in videos_containing_instance[instance_id] if video_id in video_splits['test']]\n",
    "\tval_inst_videos_containing_this = [video_id for video_id in videos_containing_instance[instance_id] if video_id in video_splits['val_inst']]\n",
    "\tval_pbr_cat_videos_containing_this = [video_id for video_id in videos_containing_instance[instance_id] if video_id in video_splits['val_pbr_cat']]\n",
    "\tif len(test_videos_containing_this) > 0:\n",
    "\t\tprint(f\"TRAIN INSTANCE {instance_id} FOUND IN TEST VIDEOS: {test_videos_containing_this}; ALSO IN {videos_containing_instance[instance_id]}\")\n",
    "\t# if len(val_inst_videos_containing_this) > 0:\n",
    "\t# \tprint(f\"TRAIN INSTANCE {instance_id} FOUND IN VAL_INST: {val_inst_videos_containing_this}; ALSO IN {videos_containing_instance[instance_id]}\")\n",
    "\tif len(val_pbr_cat_videos_containing_this) > 0:\n",
    "\t\tprint(f\"TRAIN INSTANCE {instance_id} FOUND IN VAL_PBR_CAT: {val_pbr_cat_videos_containing_this}; ALSO IN {videos_containing_instance[instance_id]}\")"
   ]
  }
 ],
 "metadata": {
  "kernelspec": {
   "display_name": "env",
   "language": "python",
   "name": "python3"
  },
  "language_info": {
   "codemirror_mode": {
    "name": "ipython",
    "version": 3
   },
   "file_extension": ".py",
   "mimetype": "text/x-python",
   "name": "python",
   "nbconvert_exporter": "python",
   "pygments_lexer": "ipython3",
   "version": "3.10.12"
  }
 },
 "nbformat": 4,
 "nbformat_minor": 5
}
