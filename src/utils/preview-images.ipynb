{
 "cells": [
  {
   "cell_type": "code",
   "execution_count": null,
   "id": "e82278c8",
   "metadata": {},
   "outputs": [],
   "source": [
    "import os\n",
    "import glob\n",
    "import yaml\n",
    "from ultralytics.data.utils import visualize_image_annotations\n",
    "\n",
    "imgs_path = '/home/data/processed/3d_RP/pace_v3/train'\n",
    "yaml_path = '/home/data/configs/pace_v3.yaml'\n",
    "\n",
    "with open(yaml_path, 'r') as f:\n",
    "\tfull_yaml = yaml.safe_load(f)\n",
    "\n",
    "# label_map = {0: 'toy_car', 1: 'can'}\n",
    "label_map = full_yaml['names']\n",
    "# label_map.append('distractor')"
   ]
  },
  {
   "cell_type": "code",
   "execution_count": null,
   "id": "5dde2653",
   "metadata": {},
   "outputs": [],
   "source": [
    "if not imgs_path.endswith('/images'):\n",
    "\timgs_path = imgs_path + '/images'\n",
    "paths = glob.glob(os.path.join(imgs_path, '*'))\n",
    "# paths.sort(key=lambda x:int(os.path.basename(x).split('_')[0]))"
   ]
  },
  {
   "cell_type": "code",
   "execution_count": null,
   "id": "55803594",
   "metadata": {},
   "outputs": [],
   "source": [
    "# class KeyAsValueDict(dict):\n",
    "#     def __missing__(self, key):\n",
    "#         return key\n",
    "# label_map = KeyAsValueDict()"
   ]
  },
  {
   "cell_type": "code",
   "execution_count": null,
   "id": "9f0398b4",
   "metadata": {},
   "outputs": [],
   "source": [
    "paths[0], label_map"
   ]
  },
  {
   "cell_type": "code",
   "execution_count": null,
   "id": "fd4e0b1c",
   "metadata": {},
   "outputs": [],
   "source": [
    "N = 10\n",
    "for idx in range(N):\n",
    "\timg_path = paths[idx]\n",
    "\tlabel_path = img_path.replace('/images', '/labels').replace('.jpg', '.txt').replace('.png', '.txt')\n",
    "\t# label_path = f\"/home/data/pace/sample_labels/{img_path.split('/')[-1].replace('.png', '.txt')}\n",
    "\t# label_path = \"_\".join(img_path.replace('/images', '/labels').split('_')[:-1]) + '.txt' ### when 1_none and 1_box have same label\n",
    "\tvisualize_image_annotations(img_path, label_path, label_map)"
   ]
  }
 ],
 "metadata": {
  "kernelspec": {
   "display_name": "env",
   "language": "python",
   "name": "python3"
  },
  "language_info": {
   "codemirror_mode": {
    "name": "ipython",
    "version": 3
   },
   "file_extension": ".py",
   "mimetype": "text/x-python",
   "name": "python",
   "nbconvert_exporter": "python",
   "pygments_lexer": "ipython3",
   "version": "3.10.12"
  }
 },
 "nbformat": 4,
 "nbformat_minor": 5
}
