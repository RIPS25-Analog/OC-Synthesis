{
 "cells": [
  {
   "cell_type": "code",
   "execution_count": null,
   "id": "e82278c8",
   "metadata": {},
   "outputs": [],
   "source": [
    "import os\n",
    "import glob\n",
    "import yaml\n",
    "from ultralytics.data.utils import visualize_image_annotations\n",
    "\n",
    "imgs_path = '/home/data/processed/cnp-pace/toycar_can_v2/train'\n",
    "label_map = {0: 'toy_car', 1: 'can'}"
   ]
  },
  {
   "cell_type": "code",
   "execution_count": null,
   "id": "5dde2653",
   "metadata": {},
   "outputs": [],
   "source": [
    "imgs_path = imgs_path + '/images' if not imgs_path.endswith('/images') else imgs_path\n",
    "paths = glob.glob(os.path.join(imgs_path, '*'))\n",
    "# paths.sort(key=lambda x:int(os.path.basename(x).split('_')[0]))"
   ]
  },
  {
   "cell_type": "code",
   "execution_count": 2,
   "id": "55803594",
   "metadata": {},
   "outputs": [],
   "source": [
    "# yaml_path = '/home/data/configs/cnp_pace_v2-pace_eval.yaml'\n",
    "# with open(yaml_path, 'r') as f:\n",
    "# \tfull_yaml = yaml.safe_load(f)\n",
    "# \tlabel_map = full_yaml['names']\n",
    "\n",
    "# class KeyAsValueDict(dict):\n",
    "#     def __missing__(self, key):\n",
    "#         return key\n",
    "# label_map = KeyAsValueDict()"
   ]
  },
  {
   "cell_type": "code",
   "execution_count": 3,
   "id": "9f0398b4",
   "metadata": {},
   "outputs": [
    {
     "data": {
      "text/plain": [
       "('/home/data/processed/cnp-pace/toycar_can_v2/train/images/2475_motion.jpg',\n",
       " {0: 'toy_car', 1: 'can'})"
      ]
     },
     "execution_count": 3,
     "metadata": {},
     "output_type": "execute_result"
    }
   ],
   "source": [
    "paths[0], label_map"
   ]
  },
  {
   "cell_type": "code",
   "execution_count": null,
   "id": "fd4e0b1c",
   "metadata": {},
   "outputs": [],
   "source": [
    "N = 5\n",
    "for idx in range(N):\n",
    "\timg_path = paths[idx]\n",
    "\tlabel_path = img_path.replace('/images', '/labels').replace('.jpg', '.txt').replace('.png', '.txt')\n",
    "\t# label_path = f\"/home/data/pace/sample_labels/{img_path.split('/')[-1].replace('.png', '.txt')}\n",
    "\t# label_path = \"_\".join(img_path.replace('/images', '/labels').split('_')[:-1]) + '.txt' ### when 1_none and 1_box have same label\n",
    "\tvisualize_image_annotations(img_path, label_path, label_map)"
   ]
  },
  {
   "cell_type": "markdown",
   "id": "58b2498d",
   "metadata": {},
   "source": [
    "# Visualize labels"
   ]
  },
  {
   "cell_type": "code",
   "execution_count": null,
   "id": "4fc9124c",
   "metadata": {},
   "outputs": [],
   "source": [
    "import matplotlib.pyplot as plt\n",
    "## read all the darknet label txt files in a directory and plot all bounding boxes combined\n",
    "bboxes = []\n",
    "labels_path = imgs_path.replace('/images', '/labels')\n",
    "for label_path in glob.glob(os.path.join(labels_path, '*.txt'))[:100]:\n",
    "\twith open(label_path, 'r') as f:\n",
    "\t\tfor line in f:\n",
    "\t\t\tclass_id, x_center, y_center, width, height = map(float, line.strip().split())\n",
    "\t\t\tbboxes.append((class_id, x_center, y_center, width, height))\n",
    "\n",
    "plt.figure(figsize=(8, 8))\n",
    "ax = plt.gca()\n",
    "\n",
    "for class_id, x_center, y_center, width, height in bboxes:\n",
    "\tx1 = 0.5 - width / 2\n",
    "\ty1 = 0.5 - height / 2\n",
    "\trect = plt.Rectangle((x1, y1), width, height, fill=False, edgecolor='red', linewidth=0.5)\n",
    "\tax.add_patch(rect)\n",
    "\n",
    "plt.xlim(0, 1)\n",
    "plt.ylim(1, 0)  # Inverted y-axis for image coordinates\n",
    "plt.grid(True)\n",
    "plt.show()"
   ]
  }
 ],
 "metadata": {
  "kernelspec": {
   "display_name": "env",
   "language": "python",
   "name": "python3"
  },
  "language_info": {
   "codemirror_mode": {
    "name": "ipython",
    "version": 3
   },
   "file_extension": ".py",
   "mimetype": "text/x-python",
   "name": "python",
   "nbconvert_exporter": "python",
   "pygments_lexer": "ipython3",
   "version": "3.10.12"
  }
 },
 "nbformat": 4,
 "nbformat_minor": 5
}
